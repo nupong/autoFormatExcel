{
 "cells": [
  {
   "cell_type": "code",
   "execution_count": 1,
   "id": "1f421873",
   "metadata": {},
   "outputs": [],
   "source": [
    "import pandas as pd\n",
    "import os\n",
    "import time\n",
    "cwd = os.getcwd()\n"
   ]
  },
  {
   "cell_type": "code",
   "execution_count": 2,
   "id": "b1b0e49f",
   "metadata": {},
   "outputs": [
    {
     "ename": "ValueError",
     "evalue": "Worksheet named 'NRCELL' not found",
     "output_type": "error",
     "traceback": [
      "\u001b[1;31m---------------------------------------------------------------------------\u001b[0m",
      "\u001b[1;31mValueError\u001b[0m                                Traceback (most recent call last)",
      "\u001b[1;32m~\\AppData\\Local\\Temp/ipykernel_11996/4241990577.py\u001b[0m in \u001b[0;36m<module>\u001b[1;34m\u001b[0m\n\u001b[0;32m      4\u001b[0m \u001b[1;33m\u001b[0m\u001b[0m\n\u001b[0;32m      5\u001b[0m \u001b[1;31m#Dataframe for NRCELL sheet\u001b[0m\u001b[1;33m\u001b[0m\u001b[1;33m\u001b[0m\u001b[0m\n\u001b[1;32m----> 6\u001b[1;33m \u001b[0mdf1\u001b[0m \u001b[1;33m=\u001b[0m \u001b[0mpd\u001b[0m\u001b[1;33m.\u001b[0m\u001b[0mread_excel\u001b[0m\u001b[1;33m(\u001b[0m\u001b[0mnrcell_file\u001b[0m\u001b[1;33m,\u001b[0m\u001b[0msheet_name\u001b[0m\u001b[1;33m=\u001b[0m\u001b[1;34m'NRCELL'\u001b[0m\u001b[1;33m,\u001b[0m\u001b[0mskiprows\u001b[0m\u001b[1;33m=\u001b[0m\u001b[1;36m1\u001b[0m\u001b[1;33m)\u001b[0m\u001b[1;33m\u001b[0m\u001b[1;33m\u001b[0m\u001b[0m\n\u001b[0m\u001b[0;32m      7\u001b[0m \u001b[0mcol_list\u001b[0m \u001b[1;33m=\u001b[0m \u001b[0mdf1\u001b[0m\u001b[1;33m.\u001b[0m\u001b[0mcolumns\u001b[0m\u001b[1;33m.\u001b[0m\u001b[0mstr\u001b[0m\u001b[1;33m.\u001b[0m\u001b[0mstrip\u001b[0m\u001b[1;33m(\u001b[0m\u001b[1;33m)\u001b[0m\u001b[1;33m\u001b[0m\u001b[1;33m\u001b[0m\u001b[0m\n\u001b[0;32m      8\u001b[0m \u001b[0mdf1\u001b[0m\u001b[1;33m.\u001b[0m\u001b[0mcolumns\u001b[0m \u001b[1;33m=\u001b[0m \u001b[0mcol_list\u001b[0m\u001b[1;33m\u001b[0m\u001b[1;33m\u001b[0m\u001b[0m\n",
      "\u001b[1;32m~\\Anaconda3\\lib\\site-packages\\pandas\\util\\_decorators.py\u001b[0m in \u001b[0;36mwrapper\u001b[1;34m(*args, **kwargs)\u001b[0m\n\u001b[0;32m    309\u001b[0m                     \u001b[0mstacklevel\u001b[0m\u001b[1;33m=\u001b[0m\u001b[0mstacklevel\u001b[0m\u001b[1;33m,\u001b[0m\u001b[1;33m\u001b[0m\u001b[1;33m\u001b[0m\u001b[0m\n\u001b[0;32m    310\u001b[0m                 )\n\u001b[1;32m--> 311\u001b[1;33m             \u001b[1;32mreturn\u001b[0m \u001b[0mfunc\u001b[0m\u001b[1;33m(\u001b[0m\u001b[1;33m*\u001b[0m\u001b[0margs\u001b[0m\u001b[1;33m,\u001b[0m \u001b[1;33m**\u001b[0m\u001b[0mkwargs\u001b[0m\u001b[1;33m)\u001b[0m\u001b[1;33m\u001b[0m\u001b[1;33m\u001b[0m\u001b[0m\n\u001b[0m\u001b[0;32m    312\u001b[0m \u001b[1;33m\u001b[0m\u001b[0m\n\u001b[0;32m    313\u001b[0m         \u001b[1;32mreturn\u001b[0m \u001b[0mwrapper\u001b[0m\u001b[1;33m\u001b[0m\u001b[1;33m\u001b[0m\u001b[0m\n",
      "\u001b[1;32m~\\Anaconda3\\lib\\site-packages\\pandas\\io\\excel\\_base.py\u001b[0m in \u001b[0;36mread_excel\u001b[1;34m(io, sheet_name, header, names, index_col, usecols, squeeze, dtype, engine, converters, true_values, false_values, skiprows, nrows, na_values, keep_default_na, na_filter, verbose, parse_dates, date_parser, thousands, comment, skipfooter, convert_float, mangle_dupe_cols, storage_options)\u001b[0m\n\u001b[0;32m    370\u001b[0m \u001b[1;33m\u001b[0m\u001b[0m\n\u001b[0;32m    371\u001b[0m     \u001b[1;32mtry\u001b[0m\u001b[1;33m:\u001b[0m\u001b[1;33m\u001b[0m\u001b[1;33m\u001b[0m\u001b[0m\n\u001b[1;32m--> 372\u001b[1;33m         data = io.parse(\n\u001b[0m\u001b[0;32m    373\u001b[0m             \u001b[0msheet_name\u001b[0m\u001b[1;33m=\u001b[0m\u001b[0msheet_name\u001b[0m\u001b[1;33m,\u001b[0m\u001b[1;33m\u001b[0m\u001b[1;33m\u001b[0m\u001b[0m\n\u001b[0;32m    374\u001b[0m             \u001b[0mheader\u001b[0m\u001b[1;33m=\u001b[0m\u001b[0mheader\u001b[0m\u001b[1;33m,\u001b[0m\u001b[1;33m\u001b[0m\u001b[1;33m\u001b[0m\u001b[0m\n",
      "\u001b[1;32m~\\Anaconda3\\lib\\site-packages\\pandas\\io\\excel\\_base.py\u001b[0m in \u001b[0;36mparse\u001b[1;34m(self, sheet_name, header, names, index_col, usecols, squeeze, converters, true_values, false_values, skiprows, nrows, na_values, parse_dates, date_parser, thousands, comment, skipfooter, convert_float, mangle_dupe_cols, **kwds)\u001b[0m\n\u001b[0;32m   1270\u001b[0m             \u001b[0mDataFrame\u001b[0m \u001b[1;32mfrom\u001b[0m \u001b[0mthe\u001b[0m \u001b[0mpassed\u001b[0m \u001b[1;32min\u001b[0m \u001b[0mExcel\u001b[0m \u001b[0mfile\u001b[0m\u001b[1;33m.\u001b[0m\u001b[1;33m\u001b[0m\u001b[1;33m\u001b[0m\u001b[0m\n\u001b[0;32m   1271\u001b[0m         \"\"\"\n\u001b[1;32m-> 1272\u001b[1;33m         return self._reader.parse(\n\u001b[0m\u001b[0;32m   1273\u001b[0m             \u001b[0msheet_name\u001b[0m\u001b[1;33m=\u001b[0m\u001b[0msheet_name\u001b[0m\u001b[1;33m,\u001b[0m\u001b[1;33m\u001b[0m\u001b[1;33m\u001b[0m\u001b[0m\n\u001b[0;32m   1274\u001b[0m             \u001b[0mheader\u001b[0m\u001b[1;33m=\u001b[0m\u001b[0mheader\u001b[0m\u001b[1;33m,\u001b[0m\u001b[1;33m\u001b[0m\u001b[1;33m\u001b[0m\u001b[0m\n",
      "\u001b[1;32m~\\Anaconda3\\lib\\site-packages\\pandas\\io\\excel\\_base.py\u001b[0m in \u001b[0;36mparse\u001b[1;34m(self, sheet_name, header, names, index_col, usecols, squeeze, dtype, true_values, false_values, skiprows, nrows, na_values, verbose, parse_dates, date_parser, thousands, comment, skipfooter, convert_float, mangle_dupe_cols, **kwds)\u001b[0m\n\u001b[0;32m    533\u001b[0m \u001b[1;33m\u001b[0m\u001b[0m\n\u001b[0;32m    534\u001b[0m             \u001b[1;32mif\u001b[0m \u001b[0misinstance\u001b[0m\u001b[1;33m(\u001b[0m\u001b[0masheetname\u001b[0m\u001b[1;33m,\u001b[0m \u001b[0mstr\u001b[0m\u001b[1;33m)\u001b[0m\u001b[1;33m:\u001b[0m\u001b[1;33m\u001b[0m\u001b[1;33m\u001b[0m\u001b[0m\n\u001b[1;32m--> 535\u001b[1;33m                 \u001b[0msheet\u001b[0m \u001b[1;33m=\u001b[0m \u001b[0mself\u001b[0m\u001b[1;33m.\u001b[0m\u001b[0mget_sheet_by_name\u001b[0m\u001b[1;33m(\u001b[0m\u001b[0masheetname\u001b[0m\u001b[1;33m)\u001b[0m\u001b[1;33m\u001b[0m\u001b[1;33m\u001b[0m\u001b[0m\n\u001b[0m\u001b[0;32m    536\u001b[0m             \u001b[1;32melse\u001b[0m\u001b[1;33m:\u001b[0m  \u001b[1;31m# assume an integer if not a string\u001b[0m\u001b[1;33m\u001b[0m\u001b[1;33m\u001b[0m\u001b[0m\n\u001b[0;32m    537\u001b[0m                 \u001b[0msheet\u001b[0m \u001b[1;33m=\u001b[0m \u001b[0mself\u001b[0m\u001b[1;33m.\u001b[0m\u001b[0mget_sheet_by_index\u001b[0m\u001b[1;33m(\u001b[0m\u001b[0masheetname\u001b[0m\u001b[1;33m)\u001b[0m\u001b[1;33m\u001b[0m\u001b[1;33m\u001b[0m\u001b[0m\n",
      "\u001b[1;32m~\\Anaconda3\\lib\\site-packages\\pandas\\io\\excel\\_openpyxl.py\u001b[0m in \u001b[0;36mget_sheet_by_name\u001b[1;34m(self, name)\u001b[0m\n\u001b[0;32m    540\u001b[0m \u001b[1;33m\u001b[0m\u001b[0m\n\u001b[0;32m    541\u001b[0m     \u001b[1;32mdef\u001b[0m \u001b[0mget_sheet_by_name\u001b[0m\u001b[1;33m(\u001b[0m\u001b[0mself\u001b[0m\u001b[1;33m,\u001b[0m \u001b[0mname\u001b[0m\u001b[1;33m:\u001b[0m \u001b[0mstr\u001b[0m\u001b[1;33m)\u001b[0m\u001b[1;33m:\u001b[0m\u001b[1;33m\u001b[0m\u001b[1;33m\u001b[0m\u001b[0m\n\u001b[1;32m--> 542\u001b[1;33m         \u001b[0mself\u001b[0m\u001b[1;33m.\u001b[0m\u001b[0mraise_if_bad_sheet_by_name\u001b[0m\u001b[1;33m(\u001b[0m\u001b[0mname\u001b[0m\u001b[1;33m)\u001b[0m\u001b[1;33m\u001b[0m\u001b[1;33m\u001b[0m\u001b[0m\n\u001b[0m\u001b[0;32m    543\u001b[0m         \u001b[1;32mreturn\u001b[0m \u001b[0mself\u001b[0m\u001b[1;33m.\u001b[0m\u001b[0mbook\u001b[0m\u001b[1;33m[\u001b[0m\u001b[0mname\u001b[0m\u001b[1;33m]\u001b[0m\u001b[1;33m\u001b[0m\u001b[1;33m\u001b[0m\u001b[0m\n\u001b[0;32m    544\u001b[0m \u001b[1;33m\u001b[0m\u001b[0m\n",
      "\u001b[1;32m~\\Anaconda3\\lib\\site-packages\\pandas\\io\\excel\\_base.py\u001b[0m in \u001b[0;36mraise_if_bad_sheet_by_name\u001b[1;34m(self, name)\u001b[0m\n\u001b[0;32m    472\u001b[0m     \u001b[1;32mdef\u001b[0m \u001b[0mraise_if_bad_sheet_by_name\u001b[0m\u001b[1;33m(\u001b[0m\u001b[0mself\u001b[0m\u001b[1;33m,\u001b[0m \u001b[0mname\u001b[0m\u001b[1;33m:\u001b[0m \u001b[0mstr\u001b[0m\u001b[1;33m)\u001b[0m \u001b[1;33m->\u001b[0m \u001b[1;32mNone\u001b[0m\u001b[1;33m:\u001b[0m\u001b[1;33m\u001b[0m\u001b[1;33m\u001b[0m\u001b[0m\n\u001b[0;32m    473\u001b[0m         \u001b[1;32mif\u001b[0m \u001b[0mname\u001b[0m \u001b[1;32mnot\u001b[0m \u001b[1;32min\u001b[0m \u001b[0mself\u001b[0m\u001b[1;33m.\u001b[0m\u001b[0msheet_names\u001b[0m\u001b[1;33m:\u001b[0m\u001b[1;33m\u001b[0m\u001b[1;33m\u001b[0m\u001b[0m\n\u001b[1;32m--> 474\u001b[1;33m             \u001b[1;32mraise\u001b[0m \u001b[0mValueError\u001b[0m\u001b[1;33m(\u001b[0m\u001b[1;34mf\"Worksheet named '{name}' not found\"\u001b[0m\u001b[1;33m)\u001b[0m\u001b[1;33m\u001b[0m\u001b[1;33m\u001b[0m\u001b[0m\n\u001b[0m\u001b[0;32m    475\u001b[0m \u001b[1;33m\u001b[0m\u001b[0m\n\u001b[0;32m    476\u001b[0m     def parse(\n",
      "\u001b[1;31mValueError\u001b[0m: Worksheet named 'NRCELL' not found"
     ]
    }
   ],
   "source": [
    "#set NRCELL output file from parser\n",
    "nrcell_file = 'C:/Users/wongthot/Downloads/RC16_20221208_orig.xlsx'\n",
    "netAct_name = 'RC16'\n",
    "\n",
    "#Dataframe for NRCELL sheet\n",
    "df1 = pd.read_excel(nrcell_file,sheet_name='NRCELL',skiprows=1)\n",
    "col_list = df1.columns.str.strip()\n",
    "df1.columns = col_list\n",
    "selected_col_list = ['MRBTS','NRBTS','NRCELL','chBw', 'nrarfcn','dlMimoMode','frRefList','rModDNList','Item-tddFrameStructure-ulDlDataSlotRatio','cellName','administrativeState',\n",
    " 'operationalState','cellDepType']\n",
    "NRCELL_df = df1[[c for c in df1.columns if c in selected_col_list]]\n",
    "\n"
   ]
  },
  {
   "cell_type": "code",
   "execution_count": null,
   "id": "5d930fb2",
   "metadata": {},
   "outputs": [],
   "source": [
    "NRCELL_df"
   ]
  },
  {
   "cell_type": "code",
   "execution_count": null,
   "id": "dd5edfbc",
   "metadata": {},
   "outputs": [],
   "source": [
    "#Dataframe for NRCELL_FDD sheet\n",
    "df2 = pd.read_excel(nrcell_file,sheet_name='NRCELL_FDD',skiprows=1)\n",
    "col_list = df2.columns.str.strip()\n",
    "df2.columns = col_list\n",
    "df2.iloc[ : , [0,1,2,6,8] ]\n",
    "NRCELL_FDD_df = df2\n",
    "NRCELL_FDD_df['DN_MRBTS'] = 'PLMN-PLMN/MRBTS-' + NRCELL_FDD_df['MRBTS'].astype(str) + '/NRBTS-' + NRCELL_FDD_df['NRBTS'].astype(str)\n",
    "NRCELL_FDD_df['DN_NRCELL'] = NRCELL_FDD_df['DN_MRBTS'] + '/NRCELL-' + NRCELL_FDD_df['NRCELL'].astype(str)"
   ]
  },
  {
   "cell_type": "code",
   "execution_count": null,
   "id": "b9b6d542",
   "metadata": {},
   "outputs": [],
   "source": [
    "#Dataframe for RMOD_R sheet\n",
    "df3 = pd.read_excel(nrcell_file,sheet_name='RMOD_R',skiprows=1)\n",
    "col_list = df3.columns.str.strip()\n",
    "df3.columns = col_list\n",
    "selected_c3_list = ['configDN','productCode','productName']\n",
    "RMOD_df = df3[[c for c in df3.columns if c in selected_c3_list]]\n",
    "RMOD_df[['productShortCode','tmp']] = RMOD_df['productCode'].str.split('.',expand=True)\n",
    "RMOD_df = RMOD_df.drop(columns=['tmp'])"
   ]
  },
  {
   "cell_type": "code",
   "execution_count": null,
   "id": "47536348",
   "metadata": {},
   "outputs": [],
   "source": [
    "df4 = pd.read_excel(nrcell_file,sheet_name='ASIRMOD_R',skiprows=1)\n",
    "col_list = df4.columns.str.strip()\n",
    "df4.columns = col_list\n",
    "selected_c4_list = ['configDN','productCode','productName']\n",
    "ASIRMOD_df = df4[[c for c in df4.columns if c in selected_c4_list]]"
   ]
  },
  {
   "cell_type": "code",
   "execution_count": null,
   "id": "e9679033",
   "metadata": {},
   "outputs": [],
   "source": [
    "#NRCELL_df[NRCELL_df['rModDNList'].isna()].count()"
   ]
  },
  {
   "cell_type": "code",
   "execution_count": null,
   "id": "8ce3fa78",
   "metadata": {},
   "outputs": [],
   "source": [
    "df5 = pd.read_excel(nrcell_file,sheet_name='MNL_R',skiprows=1)\n",
    "col_list = df5.columns.str.strip()\n",
    "df5.columns = col_list\n",
    "selected_c5_list = ['MRBTS','activeSWReleaseVersion']\n",
    "MNL_df = df5[[c for c in df5.columns if c in selected_c5_list]]"
   ]
  },
  {
   "cell_type": "code",
   "execution_count": null,
   "id": "537e1f31",
   "metadata": {},
   "outputs": [],
   "source": [
    "#[col for col in df1.columns if 'state' in col.lower()]"
   ]
  },
  {
   "cell_type": "code",
   "execution_count": null,
   "id": "4fbb6a28",
   "metadata": {},
   "outputs": [],
   "source": [
    "df6 = pd.read_excel(nrcell_file,sheet_name='BBMOD_R',skiprows=1)\n",
    "col_list = df6.columns.str.strip()\n",
    "df6.columns = col_list\n",
    "selected_c6_list = ['MRBTS','configDN','horizontalPosition','verticalPosition','productCode','productName']\n",
    "BBMOD_df = df6[[c for c in df6.columns if c in selected_c6_list]]\n",
    "BBMOD_df[['productShortCode','tmp']] = BBMOD_df['productCode'].str.split('.',expand=True)\n",
    "BBMOD_df = BBMOD_df.drop(columns=['tmp'])"
   ]
  },
  {
   "cell_type": "code",
   "execution_count": null,
   "id": "ee06f80a",
   "metadata": {},
   "outputs": [],
   "source": [
    "df7 = pd.read_excel(nrcell_file,sheet_name='SMOD_R',skiprows=1)\n",
    "col_list = df7.columns.str.strip()\n",
    "df7.columns = col_list\n",
    "selected_c7_list = ['MRBTS','configDN','horizontalPosition','verticalPosition','productCode','productName']\n",
    "SMOD_df = df7[[c for c in df7.columns if c in selected_c7_list]]\n",
    "SMOD_df[['productShortCode','tmp']] = SMOD_df['productCode'].str.split('.',expand=True)\n",
    "SMOD_df = SMOD_df.drop(columns=['tmp'])"
   ]
  },
  {
   "cell_type": "code",
   "execution_count": null,
   "id": "5b87c0db",
   "metadata": {},
   "outputs": [],
   "source": [
    "#Dataframe for RMODproduct derived from RMOD_R\n",
    "RMODproduct_df = RMOD_df[['productCode','productName']].drop_duplicates().copy()\n",
    "RMODproduct_df[['productShortCode','tmp']] = RMODproduct_df['productCode'].str.split('.',expand=True)\n",
    "RMODproduct_df = RMODproduct_df.drop(columns=['tmp','productCode'])[::-1]\n",
    "RMODproduct_df = RMODproduct_df.drop_duplicates().dropna().set_index('productShortCode')\n"
   ]
  },
  {
   "cell_type": "code",
   "execution_count": null,
   "id": "813d06d4",
   "metadata": {},
   "outputs": [],
   "source": [
    "#Dataframe for BBMOD product derived from BBMOD_R\n",
    "BBMODproduct_df = BBMOD_df[['productCode','productName']].drop_duplicates().copy()\n",
    "BBMODproduct_df[['productShortCode','tmp']] = BBMODproduct_df['productCode'].str.split('.',expand=True)\n",
    "BBMODproduct_df = BBMODproduct_df.drop(columns=['productCode','tmp'])[::-1]\n",
    "BBMODproduct_df = BBMODproduct_df[BBMODproduct_df['productName'] != 'UNKNOWN']\n",
    "BBMODproduct_df = BBMODproduct_df.drop_duplicates().dropna().set_index('productShortCode')"
   ]
  },
  {
   "cell_type": "code",
   "execution_count": null,
   "id": "4c962a47",
   "metadata": {},
   "outputs": [],
   "source": [
    "#Dataframe for SMOD product derived from SMOD_R\n",
    "SMODproduct_df = SMOD_df[['productCode','productName']].drop_duplicates().copy()\n",
    "SMODproduct_df[['productShortCode','tmp']] = SMODproduct_df['productCode'].str.split('.',expand=True)\n",
    "SMODproduct_df = SMODproduct_df.drop(columns=['productCode','tmp'])[::-1]\n",
    "#SMODproduct_df = SMODproduct_df[BBMODproduct_df['productName'] != 'UNKNOWN']\n",
    "SMODproduct_df = SMODproduct_df.drop_duplicates().dropna().set_index('productShortCode')"
   ]
  },
  {
   "cell_type": "code",
   "execution_count": null,
   "id": "e8a51da2",
   "metadata": {},
   "outputs": [],
   "source": [
    "RMOD_df = pd.merge(RMOD_df,RMODproduct_df,on='productShortCode',how='left')\n",
    "RMOD_df['productName_x'] = RMOD_df['productName_y'].fillna(RMOD_df['productName_x'])\n",
    "RMOD_df = RMOD_df.drop(columns=['productShortCode','productName_y'])\n",
    "#RMOD_df.columns = ['configDN','productCode','productName']\n",
    "RMOD_df.rename(columns={'productName_x':'productName'}, inplace = True)"
   ]
  },
  {
   "cell_type": "code",
   "execution_count": null,
   "id": "1657785b",
   "metadata": {},
   "outputs": [],
   "source": [
    "BBMOD_df = pd.merge(BBMOD_df,BBMODproduct_df,on='productShortCode',how='left')\n",
    "BBMOD_df['productName_x'] = BBMOD_df['productName_y'].fillna(BBMOD_df['productName_x'])\n",
    "BBMOD_df = BBMOD_df.drop(columns=['productShortCode','productName_y'])\n",
    "#BBMOD_df.columns = ['MRBTS','configDN','horizontalPosition','productCode','productName','verticalPosition']\n",
    "BBMOD_df.rename(columns={'productName_x':'productName'}, inplace = True)\n",
    "BBMOD_df['productName'] = BBMOD_df['productName'].str[:4]"
   ]
  },
  {
   "cell_type": "code",
   "execution_count": null,
   "id": "6a7b3baf",
   "metadata": {},
   "outputs": [],
   "source": [
    "SMOD_df = pd.merge(SMOD_df,SMODproduct_df,on='productShortCode',how='left')\n",
    "SMOD_df['productName_x'] = SMOD_df['productName_y'].fillna(SMOD_df['productName_x'])\n",
    "SMOD_df = SMOD_df.drop(columns=['productShortCode','productName_y'])\n",
    "#SMOD_df.columns = ['MRBTS','configDN','horizontalPosition','productCode','productName','verticalPosition']\n",
    "SMOD_df.rename(columns={'productName_x':'productName'}, inplace = True)\n",
    "SMOD_df['productName'] = SMOD_df['productName'].str[:4]"
   ]
  },
  {
   "cell_type": "code",
   "execution_count": null,
   "id": "798c4c12",
   "metadata": {},
   "outputs": [],
   "source": [
    "pivot_BBMOD_df = BBMOD_df.drop(columns=['configDN','horizontalPosition','verticalPosition'])\n",
    "pivot_BBMOD_df = pivot_BBMOD_df.pivot_table(index='MRBTS', columns = ['productName'], aggfunc = 'count').fillna(0)\n",
    "\n",
    "#Transform pandas pivot table to regular dataframe with 3 steps\n",
    "pivot_BBMOD_df.columns = pivot_BBMOD_df.columns.droplevel(0)\n",
    "pivot_BBMOD_df.columns.name = None\n",
    "pivot_BBMOD_df = pivot_BBMOD_df.reset_index()"
   ]
  },
  {
   "cell_type": "code",
   "execution_count": null,
   "id": "4c9d02f4",
   "metadata": {},
   "outputs": [],
   "source": [
    "#if 'dlMimomode' in df.columns:\n",
    "#    print('yes')\n",
    "#else:\n",
    "#    print('no')"
   ]
  },
  {
   "cell_type": "code",
   "execution_count": null,
   "id": "0a4251d6",
   "metadata": {},
   "outputs": [],
   "source": [
    "#[col for col in df.columns if 'tdd' in col]"
   ]
  },
  {
   "cell_type": "code",
   "execution_count": null,
   "id": "94f8189c",
   "metadata": {},
   "outputs": [],
   "source": [
    "pivot_SMOD_df = SMOD_df.drop(columns=['configDN','horizontalPosition','verticalPosition'])\n",
    "pivot_SMOD_df = pivot_SMOD_df.pivot_table(index='MRBTS', columns = ['productName'], aggfunc = 'count').fillna(0)\n",
    "\n",
    "#Transform pandas pivot table to regular dataframe with 2 steps\n",
    "pivot_SMOD_df.columns = pivot_SMOD_df.columns.droplevel(0)\n",
    "pivot_SMOD_df = pivot_SMOD_df.reset_index().rename_axis(None, axis=1)"
   ]
  },
  {
   "cell_type": "code",
   "execution_count": null,
   "id": "b2dc2d93",
   "metadata": {},
   "outputs": [],
   "source": [
    "NRCELL_df['DN_MRBTS'] = 'PLMN-PLMN/MRBTS-' + NRCELL_df['MRBTS'].astype(str) + '/NRBTS-' + NRCELL_df['NRBTS'].astype(str)\n",
    "NRCELL_df['DN_NRCELL'] = NRCELL_df['DN_MRBTS'] + '/NRCELL-' + NRCELL_df['NRCELL'].astype(str)\n"
   ]
  },
  {
   "cell_type": "code",
   "execution_count": null,
   "id": "e46b2952",
   "metadata": {},
   "outputs": [],
   "source": [
    "#Generate SiteName, Tech, SectorName for Smart Capex\n",
    "NRCELL_df[['cellName','cell']] = NRCELL_df['cellName'].str.split(':',expand=True)\n",
    "NRCELL_df[['SiteName','Tech','Sec','Sector']] = NRCELL_df['cell'].str.split('-',expand=True)\n",
    "NRCELL_df['SectorName'] = NRCELL_df['SiteName'] + '_' + NRCELL_df['Sector']\n",
    "NRCELL_df = NRCELL_df.drop(columns=['cellName','cell','Sec','Sector'])"
   ]
  },
  {
   "cell_type": "code",
   "execution_count": null,
   "id": "c20a17e6",
   "metadata": {},
   "outputs": [],
   "source": [
    "#Combine frRefList and rModDNList\n",
    "NRCELL_df['DNList'] = NRCELL_df['frRefList'].fillna(NRCELL_df['rModDNList'])\n",
    "NRCELL_df[['Temp','configDN','RMOD2']] = NRCELL_df['DNList'].str.split(';',expand=True)\n",
    "NRCELL_df = NRCELL_df.drop(columns=['frRefList','rModDNList','DNList','Temp'])"
   ]
  },
  {
   "cell_type": "code",
   "execution_count": null,
   "id": "d9b25ae0",
   "metadata": {},
   "outputs": [],
   "source": [
    "#NRCELL_df = NRCELL_df.iloc[: , :-1]"
   ]
  },
  {
   "cell_type": "code",
   "execution_count": null,
   "id": "6a3aa76f",
   "metadata": {},
   "outputs": [],
   "source": [
    "#NRCELL_df[NRCELL_df['configDN'].notnull()]"
   ]
  },
  {
   "cell_type": "code",
   "execution_count": null,
   "id": "c6d2ada1",
   "metadata": {},
   "outputs": [],
   "source": [
    "#Merged Dataframe\n",
    "merged_df = pd.merge(NRCELL_df, NRCELL_FDD_df[['DN_NRCELL','chBwDl','nrarfcnDl']],on='DN_NRCELL', how='left')\n",
    "merged_df['chBw']= merged_df['chBwDl'].fillna(merged_df['chBw'])\n",
    "merged_df['nrarfcn']= merged_df['nrarfcnDl'].fillna(merged_df['nrarfcn'])\n",
    "merged_df = merged_df.drop(columns=['chBwDl','nrarfcnDl'])\n",
    "merged_df = pd.merge(merged_df,RMOD_df, on='configDN', how='left')\n",
    "merged_df = pd.merge(merged_df,ASIRMOD_df, on='configDN', how='left')\n",
    "merged_df['productName_x']= merged_df['productName_y'].fillna(merged_df['productName_x'])\n",
    "merged_df = merged_df.drop(columns=['productCode_y','productName_y'])\n",
    "merged_df = merged_df.rename(columns={'productCode_x': 'productCode', 'productName_x': 'productName'})\n",
    "merged_df = pd.merge(merged_df,MNL_df, on='MRBTS', how = 'left')\n",
    "merged_df = pd.merge(merged_df, pivot_SMOD_df, on = 'MRBTS', how = 'left')\n",
    "merged_df = pd.merge(merged_df, pivot_BBMOD_df, on = 'MRBTS', how = 'left')"
   ]
  },
  {
   "cell_type": "code",
   "execution_count": null,
   "id": "2c0844fd",
   "metadata": {},
   "outputs": [],
   "source": [
    "merged_df.head(10)"
   ]
  },
  {
   "cell_type": "code",
   "execution_count": null,
   "id": "fadcd3c7",
   "metadata": {},
   "outputs": [],
   "source": [
    "sheet_list = ['NRCEL','pv_SMOD','pv_BBMOD']\n",
    "df_list =[merged_df,pivot_SMOD_df,pivot_BBMOD_df]\n",
    "TodaysDate = time.strftime(\"%Y%m%d\")\n",
    "excelfilename = netAct_name + '_NRCEL_Info_' + TodaysDate +\".xlsx\"\n",
    "\n",
    "\n",
    "# function to combine multiple dataframes to one excel file multiple sheets\n",
    "\n",
    "def dfs_to_sheets(df_list, sheet_list, file_name):\n",
    "    writer = pd.ExcelWriter(file_name,engine='xlsxwriter')   \n",
    "    for dataframe, sheet in zip(df_list, sheet_list):\n",
    "        dataframe.to_excel(writer, sheet_name=sheet, startrow=0 , startcol=0)   \n",
    "    writer.save()\n",
    "    \n",
    "dfs_to_sheets(df_list, sheet_list, excelfilename)"
   ]
  },
  {
   "cell_type": "code",
   "execution_count": null,
   "id": "d816ad54",
   "metadata": {},
   "outputs": [],
   "source": []
  }
 ],
 "metadata": {
  "kernelspec": {
   "display_name": "Python 3 (ipykernel)",
   "language": "python",
   "name": "python3"
  },
  "language_info": {
   "codemirror_mode": {
    "name": "ipython",
    "version": 3
   },
   "file_extension": ".py",
   "mimetype": "text/x-python",
   "name": "python",
   "nbconvert_exporter": "python",
   "pygments_lexer": "ipython3",
   "version": "3.9.7"
  }
 },
 "nbformat": 4,
 "nbformat_minor": 5
}
