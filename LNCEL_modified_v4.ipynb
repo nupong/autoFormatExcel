{
 "cells": [
  {
   "cell_type": "code",
   "execution_count": 1,
   "id": "fbe89d0f",
   "metadata": {},
   "outputs": [],
   "source": [
    "import pandas as pd\n",
    "import os\n",
    "import time"
   ]
  },
  {
   "cell_type": "code",
   "execution_count": 2,
   "id": "219d5d50",
   "metadata": {},
   "outputs": [],
   "source": [
    "#set LNCEL output file from parser\n",
    "#set netAct name for output file\n",
    "lncell_file = 'C:/Users/wongthot/Downloads/RC11_20221216_orig.xlsx'\n",
    "netAct_name = 'RC11'"
   ]
  },
  {
   "cell_type": "code",
   "execution_count": 3,
   "id": "313c335b",
   "metadata": {},
   "outputs": [],
   "source": [
    "#Dataframe for LNCEL sheet\n",
    "df1 = pd.read_excel(lncell_file,sheet_name='LNCEL',skiprows=1)\n",
    "col_list = df1.columns.str.strip()"
   ]
  },
  {
   "cell_type": "code",
   "execution_count": 4,
   "id": "12555503",
   "metadata": {},
   "outputs": [],
   "source": [
    "df1.columns = col_list\n",
    "selected_c1_list = ['MRBTS','LNBTS','LNCEL','administrativeState','operationalState','cellName']\n",
    "LNCEL_df = df1[[c for c in df1.columns if c in selected_c1_list]]"
   ]
  },
  {
   "cell_type": "code",
   "execution_count": 5,
   "id": "efc498a3",
   "metadata": {},
   "outputs": [],
   "source": [
    "#d= dict([(MRBTS,[LNCEL,cellName]) for MRBTS, LNCEL,cellName in zip(LNCEL_df.MRBTS, LNCEL_df.LNCEL,LNCEL_df.cellName)])"
   ]
  },
  {
   "cell_type": "code",
   "execution_count": 6,
   "id": "6317231a",
   "metadata": {},
   "outputs": [],
   "source": [
    "#[col for col in df1.columns if 'dn' in col.lower()]"
   ]
  },
  {
   "cell_type": "code",
   "execution_count": 7,
   "id": "60d8ea72",
   "metadata": {},
   "outputs": [],
   "source": [
    "#Dataframe for LNCEL_FDD sheet\n",
    "df2 = pd.read_excel(lncell_file,sheet_name='LNCEL_FDD',skiprows=1)\n",
    "col2_list = df2.columns.str.strip()\n",
    "df2.columns = col2_list\n",
    "selected_c2_list = ['MRBTS','LNBTS','LNCEL','dlChBw','earfcnDL','dlMimoMode']\n",
    "LNCEL_FDD_df = df2[[c for c in df2.columns if c in selected_c2_list]]"
   ]
  },
  {
   "cell_type": "code",
   "execution_count": 8,
   "id": "a0172266",
   "metadata": {},
   "outputs": [],
   "source": [
    "#Dataframe for LNCEL_TDD sheet\n",
    "df3 = pd.read_excel(lncell_file,sheet_name='LNCEL_TDD',skiprows=1)\n",
    "col3_list = df3.columns.str.strip()\n",
    "df3.columns = col3_list\n",
    "selected_c3_list = ['MRBTS','LNBTS','LNCEL','chBw','earfcn','dlMimoMode','tddFrameConf']\n",
    "LNCEL_TDD_df = df3[[c for c in df3.columns if c in selected_c3_list]]"
   ]
  },
  {
   "cell_type": "code",
   "execution_count": 9,
   "id": "1e1a393e",
   "metadata": {},
   "outputs": [
    {
     "name": "stderr",
     "output_type": "stream",
     "text": [
      "C:\\Users\\wongthot\\Anaconda3\\lib\\site-packages\\pandas\\core\\frame.py:3641: SettingWithCopyWarning: \n",
      "A value is trying to be set on a copy of a slice from a DataFrame.\n",
      "Try using .loc[row_indexer,col_indexer] = value instead\n",
      "\n",
      "See the caveats in the documentation: https://pandas.pydata.org/pandas-docs/stable/user_guide/indexing.html#returning-a-view-versus-a-copy\n",
      "  self[k1] = value[k2]\n"
     ]
    }
   ],
   "source": [
    "#Dataframe for RMOD_R sheet\n",
    "df4 = pd.read_excel(lncell_file,sheet_name='RMOD_R',skiprows=1)\n",
    "col4_list = df4.columns.str.strip()\n",
    "df4.columns = col4_list\n",
    "selected_c4_list = ['MRBTS','activeLteCellsList','configDN','productCode','productName','serialNumber']\n",
    "RMOD_df = df4[[c for c in df4.columns if c in selected_c4_list]]\n",
    "RMOD_df[['productShortCode','tmp']] = RMOD_df['productCode'].str.split('.',expand=True)\n",
    "RMOD_df = RMOD_df.drop(columns=['tmp'])"
   ]
  },
  {
   "cell_type": "code",
   "execution_count": 10,
   "id": "39a8c61a",
   "metadata": {},
   "outputs": [],
   "source": [
    "df5 = pd.read_excel(lncell_file,sheet_name='SMOD_R',skiprows=1)\n",
    "col_list = df5.columns.str.strip()\n",
    "df5.columns = col_list\n",
    "selected_c5_list = ['MRBTS','configDN','horizontalPosition','verticalPosition','productCode','productName','serialNumber']\n",
    "SMOD_df = df5[[c for c in df5.columns if c in selected_c5_list]]\n",
    "SMOD_df[['productShortCode','tmp']] = SMOD_df['productCode'].str.split('.',expand=True)\n",
    "SMOD_df = SMOD_df.drop(columns=['tmp'])"
   ]
  },
  {
   "cell_type": "code",
   "execution_count": 11,
   "id": "0ed33b6f",
   "metadata": {},
   "outputs": [],
   "source": [
    "pivot_SMOD_df = SMOD_df.drop(columns=['configDN','horizontalPosition','verticalPosition','productCode','serialNumber'])\n",
    "pivot_SMOD_df = pivot_SMOD_df.pivot_table(index='MRBTS', columns = ['productName'], aggfunc = 'count').fillna(0)\n",
    "\n",
    "pivot_SMOD_df.columns = pivot_SMOD_df.columns.droplevel(0)\n",
    "pivot_SMOD_df.columns.name = None\n",
    "pivot_SMOD_df = pivot_SMOD_df.reset_index()\n",
    "#Rename columnname\n",
    "pivot_SMOD_df = pivot_SMOD_df.rename(columns={'ASIA AirScale Common': 'ASIA','ASIB AirScale Common': 'ASIB','ASIL AirScale Common': 'ASIL','Flexi System Module Outdoor FSMF':'FSMF'})"
   ]
  },
  {
   "cell_type": "code",
   "execution_count": 12,
   "id": "d442e13b",
   "metadata": {},
   "outputs": [],
   "source": [
    "df6 = pd.read_excel(lncell_file,sheet_name='BBMOD_R',skiprows=1)\n",
    "col_list = df6.columns.str.strip()\n",
    "df6.columns = col_list\n",
    "selected_c6_list = ['MRBTS','configDN','horizontalPosition','verticalPosition','productCode','productName','serialNumber']\n",
    "BBMOD_df = df6[[c for c in df6.columns if c in selected_c6_list]]\n",
    "BBMOD_df[['productShortCode','tmp']] = BBMOD_df['productCode'].str.split('.',expand=True)\n",
    "BBMOD_df = BBMOD_df.drop(columns=['tmp'])"
   ]
  },
  {
   "cell_type": "code",
   "execution_count": 13,
   "id": "e2948a07",
   "metadata": {},
   "outputs": [],
   "source": [
    "pivot_BBMOD_df = BBMOD_df.drop(columns=['configDN','horizontalPosition','verticalPosition','productCode','serialNumber'])\n",
    "pivot_BBMOD_df = pivot_BBMOD_df.pivot_table(index='MRBTS', columns = ['productName'], aggfunc = 'count').fillna(0)\n",
    "\n",
    "pivot_BBMOD_df.columns = pivot_BBMOD_df.columns.droplevel(0)\n",
    "pivot_BBMOD_df.columns.name = None\n",
    "pivot_BBMOD_df = pivot_BBMOD_df.reset_index()\n",
    "\n",
    "#Rename columnname\n",
    "pivot_BBMOD_df = pivot_BBMOD_df.rename(columns={'ABIA AirScale Capacity': 'ABIA','ABIO AirScale Capacity': 'ABIO','ABIL AirScale Capacity': 'ABIL','BB Extension Outdoor Sub-Module FBBA':'FBBA','Flexi Baseband Sub-Module FBBC':'FBBC'})"
   ]
  },
  {
   "cell_type": "code",
   "execution_count": 14,
   "id": "ea0b966c",
   "metadata": {},
   "outputs": [],
   "source": [
    "df7 = pd.read_excel(lncell_file,sheet_name='MNL_R',skiprows=1)\n",
    "col_list = df7.columns.str.strip()\n",
    "df7.columns = col_list\n",
    "selected_c7_list = ['MRBTS','activeSWReleaseVersion','activeSWActivationTime','plannedSWReleaseVersion']\n",
    "MNL_df = df7[[c for c in df7.columns if c in selected_c7_list]]"
   ]
  },
  {
   "cell_type": "code",
   "execution_count": 15,
   "id": "b6d084bb",
   "metadata": {},
   "outputs": [
    {
     "data": {
      "text/html": [
       "<div>\n",
       "<style scoped>\n",
       "    .dataframe tbody tr th:only-of-type {\n",
       "        vertical-align: middle;\n",
       "    }\n",
       "\n",
       "    .dataframe tbody tr th {\n",
       "        vertical-align: top;\n",
       "    }\n",
       "\n",
       "    .dataframe thead th {\n",
       "        text-align: right;\n",
       "    }\n",
       "</style>\n",
       "<table border=\"1\" class=\"dataframe\">\n",
       "  <thead>\n",
       "    <tr style=\"text-align: right;\">\n",
       "      <th></th>\n",
       "      <th>MRBTS</th>\n",
       "      <th>activeSWActivationTime</th>\n",
       "      <th>activeSWReleaseVersion</th>\n",
       "      <th>plannedSWReleaseVersion</th>\n",
       "    </tr>\n",
       "  </thead>\n",
       "  <tbody>\n",
       "    <tr>\n",
       "      <th>0</th>\n",
       "      <td>93848</td>\n",
       "      <td>2021-11-03T13:23:52.270+10:00</td>\n",
       "      <td>SBTS21A_ENB_0000_001999_000009</td>\n",
       "      <td>SBTS21B_ENB_0000_002009_000000</td>\n",
       "    </tr>\n",
       "    <tr>\n",
       "      <th>1</th>\n",
       "      <td>156118</td>\n",
       "      <td>2022-08-14T13:40:31.102+10:00</td>\n",
       "      <td>SBTS22R1_ENB_0000_002003_000000</td>\n",
       "      <td>NaN</td>\n",
       "    </tr>\n",
       "    <tr>\n",
       "      <th>2</th>\n",
       "      <td>156365</td>\n",
       "      <td>2022-08-15T13:28:53.054+10:00</td>\n",
       "      <td>SBTS22R1_ENB_0000_002003_000000</td>\n",
       "      <td>NaN</td>\n",
       "    </tr>\n",
       "    <tr>\n",
       "      <th>3</th>\n",
       "      <td>155782</td>\n",
       "      <td>2022-08-18T13:35:05.106+10:00</td>\n",
       "      <td>SBTS22R1_ENB_0000_002003_000000</td>\n",
       "      <td>NaN</td>\n",
       "    </tr>\n",
       "    <tr>\n",
       "      <th>4</th>\n",
       "      <td>155741</td>\n",
       "      <td>2022-08-14T13:40:26.998+10:00</td>\n",
       "      <td>SBTS22R1_ENB_0000_002003_000000</td>\n",
       "      <td>NaN</td>\n",
       "    </tr>\n",
       "    <tr>\n",
       "      <th>...</th>\n",
       "      <td>...</td>\n",
       "      <td>...</td>\n",
       "      <td>...</td>\n",
       "      <td>...</td>\n",
       "    </tr>\n",
       "    <tr>\n",
       "      <th>1571</th>\n",
       "      <td>286735</td>\n",
       "      <td>2022-06-28T00:00:13.094+10:00</td>\n",
       "      <td>FLF22R1_ENB_0000_000109_000000</td>\n",
       "      <td>NaN</td>\n",
       "    </tr>\n",
       "    <tr>\n",
       "      <th>1572</th>\n",
       "      <td>286779</td>\n",
       "      <td>2022-06-09T23:53:05.696+10:00</td>\n",
       "      <td>FLF22R1_ENB_0000_000109_000000</td>\n",
       "      <td>NaN</td>\n",
       "    </tr>\n",
       "    <tr>\n",
       "      <th>1573</th>\n",
       "      <td>286769</td>\n",
       "      <td>2022-06-28T00:00:13.080+10:00</td>\n",
       "      <td>FLF22R1_ENB_0000_000109_000000</td>\n",
       "      <td>NaN</td>\n",
       "    </tr>\n",
       "    <tr>\n",
       "      <th>1574</th>\n",
       "      <td>286771</td>\n",
       "      <td>2022-06-09T23:53:04.533+10:00</td>\n",
       "      <td>FLF22R1_ENB_0000_000109_000000</td>\n",
       "      <td>NaN</td>\n",
       "    </tr>\n",
       "    <tr>\n",
       "      <th>1575</th>\n",
       "      <td>286767</td>\n",
       "      <td>2022-06-28T00:00:13.226+10:00</td>\n",
       "      <td>FLF22R1_ENB_0000_000109_000000</td>\n",
       "      <td>NaN</td>\n",
       "    </tr>\n",
       "  </tbody>\n",
       "</table>\n",
       "<p>1576 rows × 4 columns</p>\n",
       "</div>"
      ],
      "text/plain": [
       "       MRBTS         activeSWActivationTime           activeSWReleaseVersion  \\\n",
       "0      93848  2021-11-03T13:23:52.270+10:00   SBTS21A_ENB_0000_001999_000009   \n",
       "1     156118  2022-08-14T13:40:31.102+10:00  SBTS22R1_ENB_0000_002003_000000   \n",
       "2     156365  2022-08-15T13:28:53.054+10:00  SBTS22R1_ENB_0000_002003_000000   \n",
       "3     155782  2022-08-18T13:35:05.106+10:00  SBTS22R1_ENB_0000_002003_000000   \n",
       "4     155741  2022-08-14T13:40:26.998+10:00  SBTS22R1_ENB_0000_002003_000000   \n",
       "...      ...                            ...                              ...   \n",
       "1571  286735  2022-06-28T00:00:13.094+10:00   FLF22R1_ENB_0000_000109_000000   \n",
       "1572  286779  2022-06-09T23:53:05.696+10:00   FLF22R1_ENB_0000_000109_000000   \n",
       "1573  286769  2022-06-28T00:00:13.080+10:00   FLF22R1_ENB_0000_000109_000000   \n",
       "1574  286771  2022-06-09T23:53:04.533+10:00   FLF22R1_ENB_0000_000109_000000   \n",
       "1575  286767  2022-06-28T00:00:13.226+10:00   FLF22R1_ENB_0000_000109_000000   \n",
       "\n",
       "             plannedSWReleaseVersion  \n",
       "0     SBTS21B_ENB_0000_002009_000000  \n",
       "1                                NaN  \n",
       "2                                NaN  \n",
       "3                                NaN  \n",
       "4                                NaN  \n",
       "...                              ...  \n",
       "1571                             NaN  \n",
       "1572                             NaN  \n",
       "1573                             NaN  \n",
       "1574                             NaN  \n",
       "1575                             NaN  \n",
       "\n",
       "[1576 rows x 4 columns]"
      ]
     },
     "execution_count": 15,
     "metadata": {},
     "output_type": "execute_result"
    }
   ],
   "source": [
    "MNL_df"
   ]
  },
  {
   "cell_type": "code",
   "execution_count": 16,
   "id": "de87e1c2",
   "metadata": {},
   "outputs": [],
   "source": [
    "#Dataframe for product derived from RMOD_R\n",
    "product_df = RMOD_df[['productCode','productName']].drop_duplicates().copy()\n",
    "product_df[['productShortCode','tmp']] = product_df['productCode'].str.split('.',expand=True)\n",
    "product_df = product_df.drop(columns=['tmp','productCode'])[::-1]\n",
    "product_df = product_df.drop_duplicates().dropna().set_index('productShortCode')"
   ]
  },
  {
   "cell_type": "code",
   "execution_count": 17,
   "id": "19239fed",
   "metadata": {},
   "outputs": [],
   "source": [
    "RMOD_df.rename(columns={'productName_x':'productName'}, inplace = True)"
   ]
  },
  {
   "cell_type": "code",
   "execution_count": 18,
   "id": "de7e10c8",
   "metadata": {},
   "outputs": [],
   "source": [
    "RMOD_df = pd.merge(RMOD_df,product_df,on='productShortCode',how='left')\n",
    "RMOD_df['productName_x'] = RMOD_df['productName_y'].fillna(RMOD_df['productName_x'])\n",
    "RMOD_df = RMOD_df.drop(columns=['productShortCode','productName_y'])\n",
    "RMOD_df.rename(columns={'productName_x':'productName'}, inplace = True)\n",
    "#RMOD_df.columns = ['MRBTS','configDN','productCode','productName','activeLteCellsList']"
   ]
  },
  {
   "cell_type": "code",
   "execution_count": 19,
   "id": "de7b5ee8",
   "metadata": {},
   "outputs": [],
   "source": [
    "RMOD_df['activeLteCellsList2'] = RMOD_df['activeLteCellsList'].fillna('List;x;y;z')"
   ]
  },
  {
   "cell_type": "code",
   "execution_count": 20,
   "id": "ab26dc98",
   "metadata": {},
   "outputs": [],
   "source": [
    "RMOD_df[['activeLteCellsList2','c1','c2','c3','c4','c5','c6']] = RMOD_df['activeLteCellsList2'].str.split(';',expand=True)"
   ]
  },
  {
   "cell_type": "code",
   "execution_count": 21,
   "id": "7acb22c7",
   "metadata": {
    "scrolled": true
   },
   "outputs": [],
   "source": [
    "RMOD_Cell_df = RMOD_df[['MRBTS','productName','serialNumber','c1','c2','c3','c4','c5','c6']]\n",
    "RMOD_df = RMOD_df.drop(columns=['activeLteCellsList2','c1','c2','c3','c4','c5','c6'])"
   ]
  },
  {
   "cell_type": "code",
   "execution_count": 22,
   "id": "c4e6aa87",
   "metadata": {},
   "outputs": [],
   "source": [
    "RMOD_Cell_new_df = pd.DataFrame([{'MRBTS':'','Cell':'','MRBTS_Cell':'','RRU':'','serialNumber':''}])\n"
   ]
  },
  {
   "cell_type": "code",
   "execution_count": 23,
   "id": "d14638dc",
   "metadata": {},
   "outputs": [],
   "source": [
    "for i in range(1,7):\n",
    "    tmp_col = 'c' + str(i)\n",
    "    RMOD_Cell_tmp_df = pd.DataFrame()\n",
    "    RMOD_Cell_tmp_df['MRBTS'] = RMOD_Cell_df['MRBTS']\n",
    "    RMOD_Cell_tmp_df['Cell'] = RMOD_Cell_df[tmp_col]\n",
    "    RMOD_Cell_tmp_df['MRBTS_Cell'] = RMOD_Cell_df['MRBTS'].astype(str) + \"_\" + RMOD_Cell_df[tmp_col].astype(str)\n",
    "    RMOD_Cell_tmp_df['RRU'] = RMOD_Cell_df['productName']\n",
    "    RMOD_Cell_tmp_df['serialNumber'] = RMOD_Cell_df['serialNumber']    \n",
    "    RMOD_Cell_new_df = RMOD_Cell_new_df.append(RMOD_Cell_tmp_df)"
   ]
  },
  {
   "cell_type": "code",
   "execution_count": 24,
   "id": "a0ee0642",
   "metadata": {},
   "outputs": [],
   "source": [
    "RMOD_Cell_new_df = RMOD_Cell_new_df[RMOD_Cell_new_df.duplicated()==False]\n",
    "RMOD_Cell_new_df = RMOD_Cell_new_df[RMOD_Cell_new_df['MRBTS_Cell'].str.contains(\"None\")==False]"
   ]
  },
  {
   "cell_type": "code",
   "execution_count": 25,
   "id": "da6e6017",
   "metadata": {},
   "outputs": [],
   "source": [
    "RMOD_Cell_new_df = RMOD_Cell_new_df[RMOD_Cell_new_df['MRBTS_Cell'] != \"\"]"
   ]
  },
  {
   "cell_type": "code",
   "execution_count": 26,
   "id": "33ec60f2",
   "metadata": {},
   "outputs": [],
   "source": [
    "pivot_RMOD_df = RMOD_Cell_new_df.drop(columns=['Cell','MRBTS_Cell']).drop_duplicates()\n",
    "pivot_RMOD_df = pivot_RMOD_df.pivot_table(index='MRBTS', columns = ['RRU'], aggfunc = 'count').fillna(0)\n",
    "\n",
    "pivot_RMOD_df.columns = pivot_RMOD_df.columns.droplevel(0)\n",
    "pivot_RMOD_df.columns.name = None\n",
    "pivot_RMOD_df = pivot_RMOD_df.reset_index()"
   ]
  },
  {
   "cell_type": "code",
   "execution_count": 27,
   "id": "387db03d",
   "metadata": {
    "scrolled": true
   },
   "outputs": [
    {
     "name": "stderr",
     "output_type": "stream",
     "text": [
      "C:\\Users\\wongthot\\Anaconda3\\lib\\site-packages\\pandas\\core\\indexing.py:1667: SettingWithCopyWarning: \n",
      "A value is trying to be set on a copy of a slice from a DataFrame.\n",
      "Try using .loc[row_indexer,col_indexer] = value instead\n",
      "\n",
      "See the caveats in the documentation: https://pandas.pydata.org/pandas-docs/stable/user_guide/indexing.html#returning-a-view-versus-a-copy\n",
      "  self.obj[key] = value\n"
     ]
    },
    {
     "data": {
      "text/html": [
       "<div>\n",
       "<style scoped>\n",
       "    .dataframe tbody tr th:only-of-type {\n",
       "        vertical-align: middle;\n",
       "    }\n",
       "\n",
       "    .dataframe tbody tr th {\n",
       "        vertical-align: top;\n",
       "    }\n",
       "\n",
       "    .dataframe thead th {\n",
       "        text-align: right;\n",
       "    }\n",
       "</style>\n",
       "<table border=\"1\" class=\"dataframe\">\n",
       "  <thead>\n",
       "    <tr style=\"text-align: right;\">\n",
       "      <th></th>\n",
       "      <th>dlChBw</th>\n",
       "      <th>dlMimoMode</th>\n",
       "      <th>earfcnDL</th>\n",
       "      <th>DN_LNBTS</th>\n",
       "      <th>DN_LNCEL</th>\n",
       "    </tr>\n",
       "  </thead>\n",
       "  <tbody>\n",
       "    <tr>\n",
       "      <th>0</th>\n",
       "      <td>150</td>\n",
       "      <td>40</td>\n",
       "      <td>275</td>\n",
       "      <td>PLMN-PLMN/MRBTS-93848/LNBTS-93848</td>\n",
       "      <td>PLMN-PLMN/MRBTS-93848/LNBTS-93848/LNCEL-65</td>\n",
       "    </tr>\n",
       "    <tr>\n",
       "      <th>1</th>\n",
       "      <td>150</td>\n",
       "      <td>40</td>\n",
       "      <td>275</td>\n",
       "      <td>PLMN-PLMN/MRBTS-93848/LNBTS-93848</td>\n",
       "      <td>PLMN-PLMN/MRBTS-93848/LNBTS-93848/LNCEL-66</td>\n",
       "    </tr>\n",
       "    <tr>\n",
       "      <th>2</th>\n",
       "      <td>150</td>\n",
       "      <td>43</td>\n",
       "      <td>1725</td>\n",
       "      <td>PLMN-PLMN/MRBTS-131071/LNBTS-131071</td>\n",
       "      <td>PLMN-PLMN/MRBTS-131071/LNBTS-131071/LNCEL-10</td>\n",
       "    </tr>\n",
       "    <tr>\n",
       "      <th>3</th>\n",
       "      <td>150</td>\n",
       "      <td>43</td>\n",
       "      <td>1725</td>\n",
       "      <td>PLMN-PLMN/MRBTS-131071/LNBTS-131071</td>\n",
       "      <td>PLMN-PLMN/MRBTS-131071/LNBTS-131071/LNCEL-11</td>\n",
       "    </tr>\n",
       "    <tr>\n",
       "      <th>4</th>\n",
       "      <td>100</td>\n",
       "      <td>41</td>\n",
       "      <td>9260</td>\n",
       "      <td>PLMN-PLMN/MRBTS-131071/LNBTS-131071</td>\n",
       "      <td>PLMN-PLMN/MRBTS-131071/LNBTS-131071/LNCEL-49</td>\n",
       "    </tr>\n",
       "    <tr>\n",
       "      <th>...</th>\n",
       "      <td>...</td>\n",
       "      <td>...</td>\n",
       "      <td>...</td>\n",
       "      <td>...</td>\n",
       "      <td>...</td>\n",
       "    </tr>\n",
       "    <tr>\n",
       "      <th>11514</th>\n",
       "      <td>150</td>\n",
       "      <td>40</td>\n",
       "      <td>1725</td>\n",
       "      <td>PLMN-PLMN/MRBTS-286769/LNBTS-286769</td>\n",
       "      <td>PLMN-PLMN/MRBTS-286769/LNBTS-286769/LNCEL-9</td>\n",
       "    </tr>\n",
       "    <tr>\n",
       "      <th>11515</th>\n",
       "      <td>200</td>\n",
       "      <td>40</td>\n",
       "      <td>3350</td>\n",
       "      <td>PLMN-PLMN/MRBTS-286771/LNBTS-286771</td>\n",
       "      <td>PLMN-PLMN/MRBTS-286771/LNBTS-286771/LNCEL-57</td>\n",
       "    </tr>\n",
       "    <tr>\n",
       "      <th>11516</th>\n",
       "      <td>150</td>\n",
       "      <td>40</td>\n",
       "      <td>1725</td>\n",
       "      <td>PLMN-PLMN/MRBTS-286771/LNBTS-286771</td>\n",
       "      <td>PLMN-PLMN/MRBTS-286771/LNBTS-286771/LNCEL-9</td>\n",
       "    </tr>\n",
       "    <tr>\n",
       "      <th>11517</th>\n",
       "      <td>200</td>\n",
       "      <td>40</td>\n",
       "      <td>3350</td>\n",
       "      <td>PLMN-PLMN/MRBTS-286767/LNBTS-286767</td>\n",
       "      <td>PLMN-PLMN/MRBTS-286767/LNBTS-286767/LNCEL-57</td>\n",
       "    </tr>\n",
       "    <tr>\n",
       "      <th>11518</th>\n",
       "      <td>150</td>\n",
       "      <td>40</td>\n",
       "      <td>1725</td>\n",
       "      <td>PLMN-PLMN/MRBTS-286767/LNBTS-286767</td>\n",
       "      <td>PLMN-PLMN/MRBTS-286767/LNBTS-286767/LNCEL-9</td>\n",
       "    </tr>\n",
       "  </tbody>\n",
       "</table>\n",
       "<p>11519 rows × 5 columns</p>\n",
       "</div>"
      ],
      "text/plain": [
       "       dlChBw  dlMimoMode  earfcnDL                             DN_LNBTS  \\\n",
       "0         150          40       275    PLMN-PLMN/MRBTS-93848/LNBTS-93848   \n",
       "1         150          40       275    PLMN-PLMN/MRBTS-93848/LNBTS-93848   \n",
       "2         150          43      1725  PLMN-PLMN/MRBTS-131071/LNBTS-131071   \n",
       "3         150          43      1725  PLMN-PLMN/MRBTS-131071/LNBTS-131071   \n",
       "4         100          41      9260  PLMN-PLMN/MRBTS-131071/LNBTS-131071   \n",
       "...       ...         ...       ...                                  ...   \n",
       "11514     150          40      1725  PLMN-PLMN/MRBTS-286769/LNBTS-286769   \n",
       "11515     200          40      3350  PLMN-PLMN/MRBTS-286771/LNBTS-286771   \n",
       "11516     150          40      1725  PLMN-PLMN/MRBTS-286771/LNBTS-286771   \n",
       "11517     200          40      3350  PLMN-PLMN/MRBTS-286767/LNBTS-286767   \n",
       "11518     150          40      1725  PLMN-PLMN/MRBTS-286767/LNBTS-286767   \n",
       "\n",
       "                                           DN_LNCEL  \n",
       "0        PLMN-PLMN/MRBTS-93848/LNBTS-93848/LNCEL-65  \n",
       "1        PLMN-PLMN/MRBTS-93848/LNBTS-93848/LNCEL-66  \n",
       "2      PLMN-PLMN/MRBTS-131071/LNBTS-131071/LNCEL-10  \n",
       "3      PLMN-PLMN/MRBTS-131071/LNBTS-131071/LNCEL-11  \n",
       "4      PLMN-PLMN/MRBTS-131071/LNBTS-131071/LNCEL-49  \n",
       "...                                             ...  \n",
       "11514   PLMN-PLMN/MRBTS-286769/LNBTS-286769/LNCEL-9  \n",
       "11515  PLMN-PLMN/MRBTS-286771/LNBTS-286771/LNCEL-57  \n",
       "11516   PLMN-PLMN/MRBTS-286771/LNBTS-286771/LNCEL-9  \n",
       "11517  PLMN-PLMN/MRBTS-286767/LNBTS-286767/LNCEL-57  \n",
       "11518   PLMN-PLMN/MRBTS-286767/LNBTS-286767/LNCEL-9  \n",
       "\n",
       "[11519 rows x 5 columns]"
      ]
     },
     "execution_count": 27,
     "metadata": {},
     "output_type": "execute_result"
    }
   ],
   "source": [
    "LNCEL_FDD_df.loc[:,'DN_LNBTS'] = \"PLMN-PLMN/MRBTS-\" + LNCEL_FDD_df['MRBTS'].astype(str) + \"/LNBTS-\" + LNCEL_FDD_df['LNBTS'].astype(str)\n",
    "LNCEL_FDD_df.loc[:,'DN_LNCEL'] = LNCEL_FDD_df['DN_LNBTS'] + \"/LNCEL-\" + LNCEL_FDD_df['LNCEL'].astype(str)\n",
    "LNCEL_FDD_df.drop(columns=['MRBTS','LNBTS','LNCEL'])\n"
   ]
  },
  {
   "cell_type": "code",
   "execution_count": 28,
   "id": "78a148fb",
   "metadata": {},
   "outputs": [
    {
     "name": "stderr",
     "output_type": "stream",
     "text": [
      "C:\\Users\\wongthot\\Anaconda3\\lib\\site-packages\\pandas\\core\\indexing.py:1667: SettingWithCopyWarning: \n",
      "A value is trying to be set on a copy of a slice from a DataFrame.\n",
      "Try using .loc[row_indexer,col_indexer] = value instead\n",
      "\n",
      "See the caveats in the documentation: https://pandas.pydata.org/pandas-docs/stable/user_guide/indexing.html#returning-a-view-versus-a-copy\n",
      "  self.obj[key] = value\n",
      "C:\\Users\\wongthot\\Anaconda3\\lib\\site-packages\\pandas\\core\\frame.py:3641: SettingWithCopyWarning: \n",
      "A value is trying to be set on a copy of a slice from a DataFrame.\n",
      "Try using .loc[row_indexer,col_indexer] = value instead\n",
      "\n",
      "See the caveats in the documentation: https://pandas.pydata.org/pandas-docs/stable/user_guide/indexing.html#returning-a-view-versus-a-copy\n",
      "  self[k1] = value[k2]\n",
      "C:\\Users\\wongthot\\Anaconda3\\lib\\site-packages\\pandas\\core\\indexing.py:1773: SettingWithCopyWarning: \n",
      "A value is trying to be set on a copy of a slice from a DataFrame.\n",
      "Try using .loc[row_indexer,col_indexer] = value instead\n",
      "\n",
      "See the caveats in the documentation: https://pandas.pydata.org/pandas-docs/stable/user_guide/indexing.html#returning-a-view-versus-a-copy\n",
      "  self._setitem_single_column(ilocs[0], value, pi)\n"
     ]
    }
   ],
   "source": [
    "LNCEL_df.loc[:,'DN_LNBTS'] = \"PLMN-PLMN/MRBTS-\" + LNCEL_df['MRBTS'].astype(str) + \"/LNBTS-\" + LNCEL_df['LNBTS'].astype(str)\n",
    "LNCEL_df.loc[:,'DN_LNCEL'] = LNCEL_df['DN_LNBTS'] + \"/LNCEL-\" + LNCEL_df['LNCEL'].astype(str)\n",
    "\n",
    "#1st try for RC11\n",
    "LNCEL_df[['cellName','CellName','tmp']] = LNCEL_df['cellName'].str.split(':',expand=True)\n",
    "LNCEL_df.loc[:,'CellName'] = LNCEL_df['tmp'].fillna(LNCEL_df['CellName'])\n",
    "LNCEL_df = LNCEL_df.drop(columns=['cellName','tmp'])\n",
    "\n",
    "#2nd try for other RC1x\n",
    "#LNCEL_df[['CellName','tmp']] = LNCEL_df['cellName'].str.split(':',expand=True)\n",
    "#LNCEL_df.loc[:,'CellName'] = LNCEL_df['tmp'].fillna(LNCEL_df['CellName'])\n",
    "#LNCEL_df = LNCEL_df.drop(columns=['tmp'])"
   ]
  },
  {
   "cell_type": "code",
   "execution_count": 29,
   "id": "d0639300",
   "metadata": {},
   "outputs": [
    {
     "data": {
      "text/html": [
       "<div>\n",
       "<style scoped>\n",
       "    .dataframe tbody tr th:only-of-type {\n",
       "        vertical-align: middle;\n",
       "    }\n",
       "\n",
       "    .dataframe tbody tr th {\n",
       "        vertical-align: top;\n",
       "    }\n",
       "\n",
       "    .dataframe thead th {\n",
       "        text-align: right;\n",
       "    }\n",
       "</style>\n",
       "<table border=\"1\" class=\"dataframe\">\n",
       "  <thead>\n",
       "    <tr style=\"text-align: right;\">\n",
       "      <th></th>\n",
       "      <th>0</th>\n",
       "      <th>1</th>\n",
       "      <th>2</th>\n",
       "      <th>3</th>\n",
       "    </tr>\n",
       "  </thead>\n",
       "  <tbody>\n",
       "    <tr>\n",
       "      <th>0</th>\n",
       "      <td>B8111</td>\n",
       "      <td>OL21</td>\n",
       "      <td>C</td>\n",
       "      <td>1</td>\n",
       "    </tr>\n",
       "    <tr>\n",
       "      <th>1</th>\n",
       "      <td>B8111</td>\n",
       "      <td>OL21</td>\n",
       "      <td>C</td>\n",
       "      <td>2</td>\n",
       "    </tr>\n",
       "    <tr>\n",
       "      <th>2</th>\n",
       "      <td>B1075</td>\n",
       "      <td>OL23</td>\n",
       "      <td>A</td>\n",
       "      <td>1</td>\n",
       "    </tr>\n",
       "    <tr>\n",
       "      <th>3</th>\n",
       "      <td>B1075</td>\n",
       "      <td>OL23</td>\n",
       "      <td>A</td>\n",
       "      <td>2</td>\n",
       "    </tr>\n",
       "    <tr>\n",
       "      <th>4</th>\n",
       "      <td>B1075</td>\n",
       "      <td>OL23</td>\n",
       "      <td>A</td>\n",
       "      <td>3</td>\n",
       "    </tr>\n",
       "    <tr>\n",
       "      <th>...</th>\n",
       "      <td>...</td>\n",
       "      <td>...</td>\n",
       "      <td>...</td>\n",
       "      <td>...</td>\n",
       "    </tr>\n",
       "    <tr>\n",
       "      <th>17395</th>\n",
       "      <td>B1593</td>\n",
       "      <td>OL18</td>\n",
       "      <td>A</td>\n",
       "      <td>2</td>\n",
       "    </tr>\n",
       "    <tr>\n",
       "      <th>17396</th>\n",
       "      <td>B1596</td>\n",
       "      <td>OL26</td>\n",
       "      <td>A</td>\n",
       "      <td>2</td>\n",
       "    </tr>\n",
       "    <tr>\n",
       "      <th>17397</th>\n",
       "      <td>B1596</td>\n",
       "      <td>OL18</td>\n",
       "      <td>A</td>\n",
       "      <td>2</td>\n",
       "    </tr>\n",
       "    <tr>\n",
       "      <th>17398</th>\n",
       "      <td>B1591</td>\n",
       "      <td>OL26</td>\n",
       "      <td>A</td>\n",
       "      <td>2</td>\n",
       "    </tr>\n",
       "    <tr>\n",
       "      <th>17399</th>\n",
       "      <td>B1591</td>\n",
       "      <td>OL18</td>\n",
       "      <td>A</td>\n",
       "      <td>2</td>\n",
       "    </tr>\n",
       "  </tbody>\n",
       "</table>\n",
       "<p>17400 rows × 4 columns</p>\n",
       "</div>"
      ],
      "text/plain": [
       "           0     1  2  3\n",
       "0      B8111  OL21  C  1\n",
       "1      B8111  OL21  C  2\n",
       "2      B1075  OL23  A  1\n",
       "3      B1075  OL23  A  2\n",
       "4      B1075  OL23  A  3\n",
       "...      ...   ... .. ..\n",
       "17395  B1593  OL18  A  2\n",
       "17396  B1596  OL26  A  2\n",
       "17397  B1596  OL18  A  2\n",
       "17398  B1591  OL26  A  2\n",
       "17399  B1591  OL18  A  2\n",
       "\n",
       "[17400 rows x 4 columns]"
      ]
     },
     "execution_count": 29,
     "metadata": {},
     "output_type": "execute_result"
    }
   ],
   "source": [
    "LNCEL_df['CellName'] = LNCEL_df['CellName'].str.replace('--', '-')\n",
    "LNCEL_df['CellName'].str.split('-',expand=True)"
   ]
  },
  {
   "cell_type": "code",
   "execution_count": 30,
   "id": "b1bdad36",
   "metadata": {},
   "outputs": [],
   "source": [
    "LNCEL_df[['SiteName','Tech','Sec','Sector']] = LNCEL_df['CellName'].str.split('-',expand=True)\n",
    "LNCEL_df.loc[:,'SectorName'] = LNCEL_df['SiteName'] + '_' + LNCEL_df['Sector'].astype(str)\n",
    "\n",
    "\n",
    "LNCEL_df = LNCEL_df.drop(columns=['Sec','Sector'])\n",
    "LNCEL_df = LNCEL_df.merge(LNCEL_FDD_df[['dlChBw','dlMimoMode','earfcnDL','DN_LNCEL']],left_on = 'DN_LNCEL', right_on = 'DN_LNCEL',how = 'left')"
   ]
  },
  {
   "cell_type": "code",
   "execution_count": 31,
   "id": "db6d3bf6",
   "metadata": {},
   "outputs": [
    {
     "name": "stderr",
     "output_type": "stream",
     "text": [
      "C:\\Users\\wongthot\\AppData\\Local\\Temp/ipykernel_5672/2685996115.py:1: SettingWithCopyWarning: \n",
      "A value is trying to be set on a copy of a slice from a DataFrame.\n",
      "Try using .loc[row_indexer,col_indexer] = value instead\n",
      "\n",
      "See the caveats in the documentation: https://pandas.pydata.org/pandas-docs/stable/user_guide/indexing.html#returning-a-view-versus-a-copy\n",
      "  LNCEL_TDD_df['DN_LNBTS'] = \"PLMN-PLMN/MRBTS-\" + LNCEL_TDD_df['MRBTS'].astype(str) + \"/LNBTS-\" + LNCEL_TDD_df['LNBTS'].astype(str)\n",
      "C:\\Users\\wongthot\\AppData\\Local\\Temp/ipykernel_5672/2685996115.py:2: SettingWithCopyWarning: \n",
      "A value is trying to be set on a copy of a slice from a DataFrame.\n",
      "Try using .loc[row_indexer,col_indexer] = value instead\n",
      "\n",
      "See the caveats in the documentation: https://pandas.pydata.org/pandas-docs/stable/user_guide/indexing.html#returning-a-view-versus-a-copy\n",
      "  LNCEL_TDD_df['DN_LNCEL'] = LNCEL_TDD_df['DN_LNBTS'] + \"/LNCEL-\" + LNCEL_TDD_df['LNCEL'].astype(str)\n"
     ]
    }
   ],
   "source": [
    "LNCEL_TDD_df['DN_LNBTS'] = \"PLMN-PLMN/MRBTS-\" + LNCEL_TDD_df['MRBTS'].astype(str) + \"/LNBTS-\" + LNCEL_TDD_df['LNBTS'].astype(str)\n",
    "LNCEL_TDD_df['DN_LNCEL'] = LNCEL_TDD_df['DN_LNBTS'] + \"/LNCEL-\" + LNCEL_TDD_df['LNCEL'].astype(str)"
   ]
  },
  {
   "cell_type": "code",
   "execution_count": 32,
   "id": "4e9366a2",
   "metadata": {},
   "outputs": [],
   "source": [
    "LNCEL_df = LNCEL_df.merge(LNCEL_TDD_df[['chBw','dlMimoMode','earfcn','tddFrameConf','DN_LNCEL']],left_on = 'DN_LNCEL', right_on = 'DN_LNCEL',how = 'left')\n",
    "LNCEL_df['dlChBw'] = LNCEL_df['chBw'].fillna(LNCEL_df['dlChBw'])\n",
    "LNCEL_df['dlMimoMode_x'] = LNCEL_df['dlMimoMode_y'].fillna(LNCEL_df['dlMimoMode_x'])\n",
    "LNCEL_df['earfcnDL'] = LNCEL_df['earfcn'].fillna(LNCEL_df['earfcnDL'])\n",
    "LNCEL_df = LNCEL_df.drop(columns=['chBw','dlMimoMode_y','earfcn'])\n",
    "LNCEL_df = LNCEL_df.rename(columns={'dlMimoMode_x': 'dlMimoMode'})\n",
    "LNCEL_df['MRBTS_LNCEL'] = LNCEL_df['MRBTS'].astype(str) + \"_\" + LNCEL_df['LNCEL'].astype(str)\n",
    "LNCEL_df = LNCEL_df.merge(RMOD_Cell_new_df[['MRBTS_Cell','RRU','serialNumber']], left_on = 'MRBTS_LNCEL', right_on = 'MRBTS_Cell', how = 'left')\n",
    "LNCEL_df = LNCEL_df.drop(columns=['MRBTS_Cell'])"
   ]
  },
  {
   "cell_type": "code",
   "execution_count": 33,
   "id": "974e9d13",
   "metadata": {},
   "outputs": [],
   "source": [
    "SiteName_df = LNCEL_df[['MRBTS','DN_LNBTS','SiteName']].drop_duplicates()"
   ]
  },
  {
   "cell_type": "code",
   "execution_count": 34,
   "id": "d2769c76",
   "metadata": {},
   "outputs": [],
   "source": [
    "MNL_df = MNL_df.merge(SiteName_df, on='MRBTS',how ='left')"
   ]
  },
  {
   "cell_type": "code",
   "execution_count": 35,
   "id": "b13655ba",
   "metadata": {},
   "outputs": [],
   "source": [
    "SiteName_df = SiteName_df.merge(pivot_SMOD_df, on='MRBTS', how = 'left').fillna(0)\n",
    "SiteName_df = SiteName_df.merge(pivot_BBMOD_df, on='MRBTS', how = 'left').fillna(0)\n",
    "SiteName_df = SiteName_df.merge(pivot_RMOD_df, on='MRBTS', how = 'left').fillna(0)"
   ]
  },
  {
   "cell_type": "code",
   "execution_count": 36,
   "id": "5a8c7409",
   "metadata": {},
   "outputs": [
    {
     "data": {
      "text/plain": [
       "\"\\ndata= {'MRBTS':{'LNCEL':{'Tech','CellName'}}}\\nfor index, row in LNCEL_df.iterrows():\\n    outer_key = row['MRBTS']\\n    inner_key = row['LNCEL']\\n    if outer_key in data.keys():\\n        data[outer_key][inner_key] = {row['Tech'],row['CellName']}\\n    else:\\n        data.update({\\n        row['MRBTS']: {\\n            row['LNCEL']: {row['Tech'],row['CellName']}\\n        }\\n        })\\n\""
      ]
     },
     "execution_count": 36,
     "metadata": {},
     "output_type": "execute_result"
    }
   ],
   "source": [
    "'''\n",
    "data= {'MRBTS':{'LNCEL':{'Tech','CellName'}}}\n",
    "for index, row in LNCEL_df.iterrows():\n",
    "    outer_key = row['MRBTS']\n",
    "    inner_key = row['LNCEL']\n",
    "    if outer_key in data.keys():\n",
    "        data[outer_key][inner_key] = {row['Tech'],row['CellName']}\n",
    "    else:\n",
    "        data.update({\n",
    "        row['MRBTS']: {\n",
    "            row['LNCEL']: {row['Tech'],row['CellName']}\n",
    "        }\n",
    "        })\n",
    "'''"
   ]
  },
  {
   "cell_type": "code",
   "execution_count": 37,
   "id": "a4ab4bbf",
   "metadata": {},
   "outputs": [
    {
     "name": "stderr",
     "output_type": "stream",
     "text": [
      "C:\\Users\\wongthot\\AppData\\Local\\Temp/ipykernel_5672/4150650044.py:6: SettingWithCopyWarning: \n",
      "A value is trying to be set on a copy of a slice from a DataFrame.\n",
      "Try using .loc[row_indexer,col_indexer] = value instead\n",
      "\n",
      "See the caveats in the documentation: https://pandas.pydata.org/pandas-docs/stable/user_guide/indexing.html#returning-a-view-versus-a-copy\n",
      "  PSGRP_df['Item-lbpsCellList-lnCelId'] = \"List;\" + PSGRP_df['Item-lbpsCellList-lnCelId'].astype(str)\n",
      "C:\\Users\\wongthot\\Anaconda3\\lib\\site-packages\\pandas\\core\\frame.py:3641: SettingWithCopyWarning: \n",
      "A value is trying to be set on a copy of a slice from a DataFrame.\n",
      "Try using .loc[row_indexer,col_indexer] = value instead\n",
      "\n",
      "See the caveats in the documentation: https://pandas.pydata.org/pandas-docs/stable/user_guide/indexing.html#returning-a-view-versus-a-copy\n",
      "  self[k1] = value[k2]\n"
     ]
    }
   ],
   "source": [
    "dfx = pd.read_excel(lncell_file,sheet_name='PSGRP',skiprows=1)\n",
    "colx_list = dfx.columns.str.strip()\n",
    "dfx.columns = colx_list\n",
    "selected_cx_list = ['MRBTS','LNBTS','PSGRP','Item-lbpsCellList-lnCelId','Item-lbpsCellList-lbpsCellSOOrder','lbpsLastCellSOEnabled']\n",
    "PSGRP_df = dfx[[c for c in dfx.columns if c in selected_cx_list]]\n",
    "PSGRP_df['Item-lbpsCellList-lnCelId'] = \"List;\" + PSGRP_df['Item-lbpsCellList-lnCelId'].astype(str)\n",
    "PSGRP_df[['list','c1','c2','c3','c4','c5','c6','c7','c8']] = PSGRP_df['Item-lbpsCellList-lnCelId'].str.split(\";\",expand=True).fillna(0)\n"
   ]
  },
  {
   "cell_type": "code",
   "execution_count": 38,
   "id": "546b89fd",
   "metadata": {},
   "outputs": [],
   "source": [
    "short_LNCEL_df = LNCEL_df[['MRBTS','LNCEL','Tech','CellName','SiteName']].drop_duplicates()"
   ]
  },
  {
   "cell_type": "code",
   "execution_count": 39,
   "id": "003a79b5",
   "metadata": {},
   "outputs": [
    {
     "name": "stderr",
     "output_type": "stream",
     "text": [
      "C:\\Users\\wongthot\\AppData\\Local\\Temp/ipykernel_5672/2241133264.py:1: SettingWithCopyWarning: \n",
      "A value is trying to be set on a copy of a slice from a DataFrame.\n",
      "Try using .loc[row_indexer,col_indexer] = value instead\n",
      "\n",
      "See the caveats in the documentation: https://pandas.pydata.org/pandas-docs/stable/user_guide/indexing.html#returning-a-view-versus-a-copy\n",
      "  PSGRP_df['c1'] = PSGRP_df['c1'].astype(int)\n",
      "C:\\Users\\wongthot\\AppData\\Local\\Temp/ipykernel_5672/2241133264.py:2: SettingWithCopyWarning: \n",
      "A value is trying to be set on a copy of a slice from a DataFrame.\n",
      "Try using .loc[row_indexer,col_indexer] = value instead\n",
      "\n",
      "See the caveats in the documentation: https://pandas.pydata.org/pandas-docs/stable/user_guide/indexing.html#returning-a-view-versus-a-copy\n",
      "  PSGRP_df['c1'] = pd.merge(PSGRP_df,short_LNCEL_df, left_on = ['MRBTS','c1'], right_on = ['MRBTS','LNCEL'],how = 'left')['CellName']\n",
      "C:\\Users\\wongthot\\AppData\\Local\\Temp/ipykernel_5672/2241133264.py:3: SettingWithCopyWarning: \n",
      "A value is trying to be set on a copy of a slice from a DataFrame.\n",
      "Try using .loc[row_indexer,col_indexer] = value instead\n",
      "\n",
      "See the caveats in the documentation: https://pandas.pydata.org/pandas-docs/stable/user_guide/indexing.html#returning-a-view-versus-a-copy\n",
      "  PSGRP_df['c2'] = PSGRP_df['c2'].astype(int)\n",
      "C:\\Users\\wongthot\\AppData\\Local\\Temp/ipykernel_5672/2241133264.py:4: SettingWithCopyWarning: \n",
      "A value is trying to be set on a copy of a slice from a DataFrame.\n",
      "Try using .loc[row_indexer,col_indexer] = value instead\n",
      "\n",
      "See the caveats in the documentation: https://pandas.pydata.org/pandas-docs/stable/user_guide/indexing.html#returning-a-view-versus-a-copy\n",
      "  PSGRP_df['c2'] = pd.merge(PSGRP_df,short_LNCEL_df, left_on = ['MRBTS','c2'], right_on = ['MRBTS','LNCEL'],how = 'left')['CellName']\n",
      "C:\\Users\\wongthot\\AppData\\Local\\Temp/ipykernel_5672/2241133264.py:5: SettingWithCopyWarning: \n",
      "A value is trying to be set on a copy of a slice from a DataFrame.\n",
      "Try using .loc[row_indexer,col_indexer] = value instead\n",
      "\n",
      "See the caveats in the documentation: https://pandas.pydata.org/pandas-docs/stable/user_guide/indexing.html#returning-a-view-versus-a-copy\n",
      "  PSGRP_df['c3'] = PSGRP_df['c3'].astype(int)\n",
      "C:\\Users\\wongthot\\AppData\\Local\\Temp/ipykernel_5672/2241133264.py:6: SettingWithCopyWarning: \n",
      "A value is trying to be set on a copy of a slice from a DataFrame.\n",
      "Try using .loc[row_indexer,col_indexer] = value instead\n",
      "\n",
      "See the caveats in the documentation: https://pandas.pydata.org/pandas-docs/stable/user_guide/indexing.html#returning-a-view-versus-a-copy\n",
      "  PSGRP_df['c3'] = pd.merge(PSGRP_df,short_LNCEL_df, left_on = ['MRBTS','c3'], right_on = ['MRBTS','LNCEL'],how = 'left')['CellName']\n",
      "C:\\Users\\wongthot\\AppData\\Local\\Temp/ipykernel_5672/2241133264.py:7: SettingWithCopyWarning: \n",
      "A value is trying to be set on a copy of a slice from a DataFrame.\n",
      "Try using .loc[row_indexer,col_indexer] = value instead\n",
      "\n",
      "See the caveats in the documentation: https://pandas.pydata.org/pandas-docs/stable/user_guide/indexing.html#returning-a-view-versus-a-copy\n",
      "  PSGRP_df['c4'] = PSGRP_df['c4'].astype(int)\n",
      "C:\\Users\\wongthot\\AppData\\Local\\Temp/ipykernel_5672/2241133264.py:8: SettingWithCopyWarning: \n",
      "A value is trying to be set on a copy of a slice from a DataFrame.\n",
      "Try using .loc[row_indexer,col_indexer] = value instead\n",
      "\n",
      "See the caveats in the documentation: https://pandas.pydata.org/pandas-docs/stable/user_guide/indexing.html#returning-a-view-versus-a-copy\n",
      "  PSGRP_df['c4'] = pd.merge(PSGRP_df,short_LNCEL_df, left_on = ['MRBTS','c4'], right_on = ['MRBTS','LNCEL'],how = 'left')['CellName']\n",
      "C:\\Users\\wongthot\\AppData\\Local\\Temp/ipykernel_5672/2241133264.py:9: SettingWithCopyWarning: \n",
      "A value is trying to be set on a copy of a slice from a DataFrame.\n",
      "Try using .loc[row_indexer,col_indexer] = value instead\n",
      "\n",
      "See the caveats in the documentation: https://pandas.pydata.org/pandas-docs/stable/user_guide/indexing.html#returning-a-view-versus-a-copy\n",
      "  PSGRP_df['c5'] = PSGRP_df['c5'].astype(int)\n",
      "C:\\Users\\wongthot\\AppData\\Local\\Temp/ipykernel_5672/2241133264.py:10: SettingWithCopyWarning: \n",
      "A value is trying to be set on a copy of a slice from a DataFrame.\n",
      "Try using .loc[row_indexer,col_indexer] = value instead\n",
      "\n",
      "See the caveats in the documentation: https://pandas.pydata.org/pandas-docs/stable/user_guide/indexing.html#returning-a-view-versus-a-copy\n",
      "  PSGRP_df['c5'] = pd.merge(PSGRP_df,short_LNCEL_df, left_on = ['MRBTS','c5'], right_on = ['MRBTS','LNCEL'],how = 'left')['CellName']\n",
      "C:\\Users\\wongthot\\AppData\\Local\\Temp/ipykernel_5672/2241133264.py:11: SettingWithCopyWarning: \n",
      "A value is trying to be set on a copy of a slice from a DataFrame.\n",
      "Try using .loc[row_indexer,col_indexer] = value instead\n",
      "\n",
      "See the caveats in the documentation: https://pandas.pydata.org/pandas-docs/stable/user_guide/indexing.html#returning-a-view-versus-a-copy\n",
      "  PSGRP_df['c6'] = PSGRP_df['c6'].astype(int)\n",
      "C:\\Users\\wongthot\\AppData\\Local\\Temp/ipykernel_5672/2241133264.py:12: SettingWithCopyWarning: \n",
      "A value is trying to be set on a copy of a slice from a DataFrame.\n",
      "Try using .loc[row_indexer,col_indexer] = value instead\n",
      "\n",
      "See the caveats in the documentation: https://pandas.pydata.org/pandas-docs/stable/user_guide/indexing.html#returning-a-view-versus-a-copy\n",
      "  PSGRP_df['c6'] = pd.merge(PSGRP_df,short_LNCEL_df, left_on = ['MRBTS','c6'], right_on = ['MRBTS','LNCEL'],how = 'left')['CellName']\n",
      "C:\\Users\\wongthot\\AppData\\Local\\Temp/ipykernel_5672/2241133264.py:13: SettingWithCopyWarning: \n",
      "A value is trying to be set on a copy of a slice from a DataFrame.\n",
      "Try using .loc[row_indexer,col_indexer] = value instead\n",
      "\n",
      "See the caveats in the documentation: https://pandas.pydata.org/pandas-docs/stable/user_guide/indexing.html#returning-a-view-versus-a-copy\n",
      "  PSGRP_df['c7'] = PSGRP_df['c7'].astype(int)\n",
      "C:\\Users\\wongthot\\AppData\\Local\\Temp/ipykernel_5672/2241133264.py:14: SettingWithCopyWarning: \n",
      "A value is trying to be set on a copy of a slice from a DataFrame.\n",
      "Try using .loc[row_indexer,col_indexer] = value instead\n",
      "\n",
      "See the caveats in the documentation: https://pandas.pydata.org/pandas-docs/stable/user_guide/indexing.html#returning-a-view-versus-a-copy\n",
      "  PSGRP_df['c7'] = pd.merge(PSGRP_df,short_LNCEL_df, left_on = ['MRBTS','c7'], right_on = ['MRBTS','LNCEL'],how = 'left')['CellName']\n",
      "C:\\Users\\wongthot\\AppData\\Local\\Temp/ipykernel_5672/2241133264.py:15: SettingWithCopyWarning: \n",
      "A value is trying to be set on a copy of a slice from a DataFrame.\n",
      "Try using .loc[row_indexer,col_indexer] = value instead\n",
      "\n",
      "See the caveats in the documentation: https://pandas.pydata.org/pandas-docs/stable/user_guide/indexing.html#returning-a-view-versus-a-copy\n",
      "  PSGRP_df['c8'] = PSGRP_df['c8'].astype(int)\n",
      "C:\\Users\\wongthot\\AppData\\Local\\Temp/ipykernel_5672/2241133264.py:16: SettingWithCopyWarning: \n",
      "A value is trying to be set on a copy of a slice from a DataFrame.\n",
      "Try using .loc[row_indexer,col_indexer] = value instead\n",
      "\n",
      "See the caveats in the documentation: https://pandas.pydata.org/pandas-docs/stable/user_guide/indexing.html#returning-a-view-versus-a-copy\n",
      "  PSGRP_df['c8'] = pd.merge(PSGRP_df,short_LNCEL_df, left_on = ['MRBTS','c8'], right_on = ['MRBTS','LNCEL'],how = 'left')['CellName']\n"
     ]
    }
   ],
   "source": [
    "PSGRP_df['c1'] = PSGRP_df['c1'].astype(int) \n",
    "PSGRP_df['c1'] = pd.merge(PSGRP_df,short_LNCEL_df, left_on = ['MRBTS','c1'], right_on = ['MRBTS','LNCEL'],how = 'left')['CellName']\n",
    "PSGRP_df['c2'] = PSGRP_df['c2'].astype(int) \n",
    "PSGRP_df['c2'] = pd.merge(PSGRP_df,short_LNCEL_df, left_on = ['MRBTS','c2'], right_on = ['MRBTS','LNCEL'],how = 'left')['CellName']\n",
    "PSGRP_df['c3'] = PSGRP_df['c3'].astype(int) \n",
    "PSGRP_df['c3'] = pd.merge(PSGRP_df,short_LNCEL_df, left_on = ['MRBTS','c3'], right_on = ['MRBTS','LNCEL'],how = 'left')['CellName']\n",
    "PSGRP_df['c4'] = PSGRP_df['c4'].astype(int) \n",
    "PSGRP_df['c4'] = pd.merge(PSGRP_df,short_LNCEL_df, left_on = ['MRBTS','c4'], right_on = ['MRBTS','LNCEL'],how = 'left')['CellName']\n",
    "PSGRP_df['c5'] = PSGRP_df['c5'].astype(int) \n",
    "PSGRP_df['c5'] = pd.merge(PSGRP_df,short_LNCEL_df, left_on = ['MRBTS','c5'], right_on = ['MRBTS','LNCEL'],how = 'left')['CellName']\n",
    "PSGRP_df['c6'] = PSGRP_df['c6'].astype(int) \n",
    "PSGRP_df['c6'] = pd.merge(PSGRP_df,short_LNCEL_df, left_on = ['MRBTS','c6'], right_on = ['MRBTS','LNCEL'],how = 'left')['CellName']\n",
    "PSGRP_df['c7'] = PSGRP_df['c7'].astype(int) \n",
    "PSGRP_df['c7'] = pd.merge(PSGRP_df,short_LNCEL_df, left_on = ['MRBTS','c7'], right_on = ['MRBTS','LNCEL'],how = 'left')['CellName']\n",
    "PSGRP_df['c8'] = PSGRP_df['c8'].astype(int) \n",
    "PSGRP_df['c8'] = pd.merge(PSGRP_df,short_LNCEL_df, left_on = ['MRBTS','c8'], right_on = ['MRBTS','LNCEL'],how = 'left')['CellName']"
   ]
  },
  {
   "cell_type": "code",
   "execution_count": 40,
   "id": "3bde322f",
   "metadata": {},
   "outputs": [],
   "source": [
    "#PSGRP_df[PSGRP_df['c8'].isna() == False]"
   ]
  },
  {
   "cell_type": "code",
   "execution_count": 41,
   "id": "02782d0d",
   "metadata": {},
   "outputs": [],
   "source": [
    "#cols_to_use = PSGRP_df.columns.difference(LNCEL_df.columns)"
   ]
  },
  {
   "cell_type": "code",
   "execution_count": 42,
   "id": "47948f00",
   "metadata": {},
   "outputs": [],
   "source": [
    "#cols_to_use"
   ]
  },
  {
   "cell_type": "code",
   "execution_count": 43,
   "id": "015e0d5c",
   "metadata": {},
   "outputs": [],
   "source": [
    "sheet_list = ['SiteName','LNCEL','RMOD_R','RMOD_with_Cell','MNL_R','PSGRP']\n",
    "df_list =[SiteName_df, LNCEL_df,RMOD_df,RMOD_Cell_new_df,MNL_df,PSGRP_df]\n",
    "TodaysDate = time.strftime(\"%Y%m%d\")\n",
    "excelfilename = netAct_name + '_LNCEL_RMOD_' + TodaysDate +\".xlsx\"\n",
    "#LNCEL_df.to_excel(excelfilename,sheet_name='LNCEL_Smart_Capex')\n",
    "\n",
    "# function to combine multiple dataframes to one excel file multiple sheets\n",
    "\n",
    "def dfs_to_sheets(df_list, sheet_list, file_name):\n",
    "    writer = pd.ExcelWriter(file_name,engine='xlsxwriter')   \n",
    "    for dataframe, sheet in zip(df_list, sheet_list):\n",
    "        dataframe.to_excel(writer, sheet_name=sheet, startrow=0 , startcol=0)   \n",
    "    writer.save()\n",
    "    \n",
    "dfs_to_sheets(df_list, sheet_list, excelfilename)"
   ]
  }
 ],
 "metadata": {
  "kernelspec": {
   "display_name": "Python 3 (ipykernel)",
   "language": "python",
   "name": "python3"
  },
  "language_info": {
   "codemirror_mode": {
    "name": "ipython",
    "version": 3
   },
   "file_extension": ".py",
   "mimetype": "text/x-python",
   "name": "python",
   "nbconvert_exporter": "python",
   "pygments_lexer": "ipython3",
   "version": "3.9.7"
  }
 },
 "nbformat": 4,
 "nbformat_minor": 5
}
