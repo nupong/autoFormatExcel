{
 "cells": [
  {
   "cell_type": "code",
   "execution_count": 1,
   "id": "d94f1380",
   "metadata": {},
   "outputs": [],
   "source": [
    "import pandas as pd\n",
    "import os\n",
    "import time\n",
    "cwd = os.getcwd()\n"
   ]
  },
  {
   "cell_type": "code",
   "execution_count": 2,
   "id": "b1b0e49f",
   "metadata": {},
   "outputs": [],
   "source": [
    "#set NRCELL output file from parser\n",
    "nrcell_file = 'C:/Work/NPO PM/Optus Project/04 Brisbane Leadership/01 SmartCAPEX/00 Optus Info/Parameter and Counter//RC16_NRCEL_20221018_orig.xlsx'\n",
    "\n",
    "#Dataframe for NRCELL sheet\n",
    "df1 = pd.read_excel(nrcell_file,sheet_name='NRCELL',skiprows=1)\n",
    "col_list = df1.columns.str.strip()\n",
    "df1.columns = col_list\n",
    "selected_col_list = ['MRBTS','NRBTS','NRCELL','chBw', 'nrarfcn','dlMimoMode','frRefList','rModDNList','Item-tddFrameStructure-ulDlDataSlotRatio','cellName','administrativeState',\n",
    " 'operationalState']\n",
    "NRCELL_df = df1[[c for c in df1.columns if c in selected_col_list]]\n",
    "\n"
   ]
  },
  {
   "cell_type": "code",
   "execution_count": 3,
   "id": "dd5edfbc",
   "metadata": {},
   "outputs": [],
   "source": [
    "#Dataframe for NRCELL_FDD sheet\n",
    "df2 = pd.read_excel(nrcell_file,sheet_name='NRCELL_FDD',skiprows=1)\n",
    "col_list = df2.columns.str.strip()\n",
    "df2.columns = col_list\n",
    "df2.iloc[ : , [0,1,2,6,8] ]\n",
    "NRCELL_FDD_df = df2\n",
    "NRCELL_FDD_df['DN_MRBTS'] = 'PLMN-PLMN/MRBTS-' + NRCELL_FDD_df['MRBTS'].astype(str) + '/NRBTS-' + NRCELL_FDD_df['NRBTS'].astype(str)\n",
    "NRCELL_FDD_df['DN_NRCELL'] = NRCELL_FDD_df['DN_MRBTS'] + '/NRCELL-' + NRCELL_FDD_df['NRCELL'].astype(str)"
   ]
  },
  {
   "cell_type": "code",
   "execution_count": 4,
   "id": "b9b6d542",
   "metadata": {},
   "outputs": [
    {
     "name": "stderr",
     "output_type": "stream",
     "text": [
      "C:\\Users\\wongthot\\Anaconda3\\lib\\site-packages\\pandas\\core\\frame.py:3641: SettingWithCopyWarning: \n",
      "A value is trying to be set on a copy of a slice from a DataFrame.\n",
      "Try using .loc[row_indexer,col_indexer] = value instead\n",
      "\n",
      "See the caveats in the documentation: https://pandas.pydata.org/pandas-docs/stable/user_guide/indexing.html#returning-a-view-versus-a-copy\n",
      "  self[k1] = value[k2]\n"
     ]
    }
   ],
   "source": [
    "#Dataframe for RMOD_R sheet\n",
    "df3 = pd.read_excel(nrcell_file,sheet_name='RMOD_R',skiprows=1)\n",
    "col_list = df3.columns.str.strip()\n",
    "df3.columns = col_list\n",
    "selected_c1_list = ['configDN','productCode','productName']\n",
    "RMOD_df = df3[[c for c in df3.columns if c in selected_c1_list]]\n",
    "RMOD_df[['productShortCode','tmp']] = RMOD_df['productCode'].str.split('.',expand=True)\n",
    "RMOD_df = RMOD_df.drop(columns=['tmp'])"
   ]
  },
  {
   "cell_type": "code",
   "execution_count": 5,
   "id": "47536348",
   "metadata": {},
   "outputs": [],
   "source": [
    "df4 = pd.read_excel(nrcell_file,sheet_name='ASIRMOD_R',skiprows=1)\n",
    "col_list = df4.columns.str.strip()\n",
    "df4.columns = col_list\n",
    "selected_c2_list = ['configDN','productCode','productName']\n",
    "ASIRMOD_df = df4[[c for c in df4.columns if c in selected_c2_list]]"
   ]
  },
  {
   "cell_type": "code",
   "execution_count": 6,
   "id": "e9679033",
   "metadata": {},
   "outputs": [],
   "source": [
    "#NRCELL_df[NRCELL_df['rModDNList'].isna()].count()"
   ]
  },
  {
   "cell_type": "code",
   "execution_count": 7,
   "id": "537e1f31",
   "metadata": {},
   "outputs": [
    {
     "data": {
      "text/plain": [
       "['administrativeState',\n",
       " 'energySavingState',\n",
       " 'operationalState',\n",
       " 'blockingState']"
      ]
     },
     "execution_count": 7,
     "metadata": {},
     "output_type": "execute_result"
    }
   ],
   "source": [
    "[col for col in df1.columns if 'state' in col.lower()]"
   ]
  },
  {
   "cell_type": "code",
   "execution_count": null,
   "id": "f6b9f6f4",
   "metadata": {},
   "outputs": [],
   "source": []
  },
  {
   "cell_type": "code",
   "execution_count": 9,
   "id": "5b87c0db",
   "metadata": {},
   "outputs": [],
   "source": [
    "#Dataframe for product derived from RMOD_R\n",
    "product_df = RMOD_df[['productCode','productName']].drop_duplicates().copy()\n",
    "product_df[['productShortCode','tmp']] = product_df['productCode'].str.split('.',expand=True)\n",
    "product_df = product_df.drop(columns=['tmp','productCode'])[::-1]\n",
    "product_df = product_df.drop_duplicates().dropna().set_index('productShortCode')\n"
   ]
  },
  {
   "cell_type": "code",
   "execution_count": 10,
   "id": "e8a51da2",
   "metadata": {},
   "outputs": [],
   "source": [
    "RMOD_df = pd.merge(RMOD_df,product_df,on='productShortCode',how='left')\n",
    "RMOD_df['productName_x'] = RMOD_df['productName_y'].fillna(RMOD_df['productName_x'])\n",
    "RMOD_df = RMOD_df.drop(columns=['productShortCode','productName_y'])\n",
    "RMOD_df.columns = ['configDN','productCode','productName']"
   ]
  },
  {
   "cell_type": "code",
   "execution_count": 11,
   "id": "4c9d02f4",
   "metadata": {},
   "outputs": [],
   "source": [
    "#if 'dlMimomode' in df.columns:\n",
    "#    print('yes')\n",
    "#else:\n",
    "#    print('no')"
   ]
  },
  {
   "cell_type": "code",
   "execution_count": 12,
   "id": "0a4251d6",
   "metadata": {},
   "outputs": [],
   "source": [
    "#[col for col in df.columns if 'tdd' in col]"
   ]
  },
  {
   "cell_type": "code",
   "execution_count": 13,
   "id": "b2dc2d93",
   "metadata": {},
   "outputs": [
    {
     "name": "stderr",
     "output_type": "stream",
     "text": [
      "C:\\Users\\wongthot\\AppData\\Local\\Temp/ipykernel_8008/1172180520.py:1: SettingWithCopyWarning: \n",
      "A value is trying to be set on a copy of a slice from a DataFrame.\n",
      "Try using .loc[row_indexer,col_indexer] = value instead\n",
      "\n",
      "See the caveats in the documentation: https://pandas.pydata.org/pandas-docs/stable/user_guide/indexing.html#returning-a-view-versus-a-copy\n",
      "  NRCELL_df['DN_MRBTS'] = 'PLMN-PLMN/MRBTS-' + NRCELL_df['MRBTS'].astype(str) + '/NRBTS-' + NRCELL_df['NRBTS'].astype(str)\n",
      "C:\\Users\\wongthot\\AppData\\Local\\Temp/ipykernel_8008/1172180520.py:2: SettingWithCopyWarning: \n",
      "A value is trying to be set on a copy of a slice from a DataFrame.\n",
      "Try using .loc[row_indexer,col_indexer] = value instead\n",
      "\n",
      "See the caveats in the documentation: https://pandas.pydata.org/pandas-docs/stable/user_guide/indexing.html#returning-a-view-versus-a-copy\n",
      "  NRCELL_df['DN_NRCELL'] = NRCELL_df['DN_MRBTS'] + '/NRCELL-' + NRCELL_df['NRCELL'].astype(str)\n"
     ]
    }
   ],
   "source": [
    "NRCELL_df['DN_MRBTS'] = 'PLMN-PLMN/MRBTS-' + NRCELL_df['MRBTS'].astype(str) + '/NRBTS-' + NRCELL_df['NRBTS'].astype(str)\n",
    "NRCELL_df['DN_NRCELL'] = NRCELL_df['DN_MRBTS'] + '/NRCELL-' + NRCELL_df['NRCELL'].astype(str)\n"
   ]
  },
  {
   "cell_type": "code",
   "execution_count": 14,
   "id": "e46b2952",
   "metadata": {},
   "outputs": [
    {
     "name": "stderr",
     "output_type": "stream",
     "text": [
      "C:\\Users\\wongthot\\AppData\\Local\\Temp/ipykernel_8008/4048788541.py:4: SettingWithCopyWarning: \n",
      "A value is trying to be set on a copy of a slice from a DataFrame.\n",
      "Try using .loc[row_indexer,col_indexer] = value instead\n",
      "\n",
      "See the caveats in the documentation: https://pandas.pydata.org/pandas-docs/stable/user_guide/indexing.html#returning-a-view-versus-a-copy\n",
      "  NRCELL_df['SectorName'] = NRCELL_df['SiteName'] + '_' + NRCELL_df['Sector']\n"
     ]
    }
   ],
   "source": [
    "#Generate SiteName, Tech, SectorName for Smart Capex\n",
    "NRCELL_df[['cellName','cell']] = NRCELL_df['cellName'].str.split(':',expand=True)\n",
    "NRCELL_df[['SiteName','Tech','Sec','Sector']] = NRCELL_df['cell'].str.split('-',expand=True)\n",
    "NRCELL_df['SectorName'] = NRCELL_df['SiteName'] + '_' + NRCELL_df['Sector']\n",
    "NRCELL_df = NRCELL_df.drop(columns=['cellName','cell','Sec','Sector'])"
   ]
  },
  {
   "cell_type": "code",
   "execution_count": 15,
   "id": "c20a17e6",
   "metadata": {},
   "outputs": [],
   "source": [
    "#Combine frRefList and rModDNList\n",
    "NRCELL_df['DNList'] = NRCELL_df['frRefList'].fillna(NRCELL_df['rModDNList'])\n",
    "NRCELL_df[['Temp','configDN','RMOD2']] = NRCELL_df['DNList'].str.split(';',expand=True)\n",
    "NRCELL_df = NRCELL_df.drop(columns=['frRefList','rModDNList','DNList','Temp'])"
   ]
  },
  {
   "cell_type": "code",
   "execution_count": 16,
   "id": "d9b25ae0",
   "metadata": {},
   "outputs": [],
   "source": [
    "#NRCELL_df = NRCELL_df.iloc[: , :-1]"
   ]
  },
  {
   "cell_type": "code",
   "execution_count": 17,
   "id": "6a3aa76f",
   "metadata": {},
   "outputs": [],
   "source": [
    "#NRCELL_df[NRCELL_df['configDN'].notnull()]"
   ]
  },
  {
   "cell_type": "code",
   "execution_count": 18,
   "id": "c6d2ada1",
   "metadata": {},
   "outputs": [],
   "source": [
    "#Merged Dataframe\n",
    "merged_df = pd.merge(NRCELL_df, NRCELL_FDD_df[['DN_NRCELL','chBwDl','nrarfcnDl']],on='DN_NRCELL', how='left')\n",
    "merged_df['chBw']= merged_df['chBwDl'].fillna(merged_df['chBw'])\n",
    "merged_df['nrarfcn']= merged_df['nrarfcnDl'].fillna(merged_df['nrarfcn'])\n",
    "merged_df = merged_df.drop(columns=['chBwDl','nrarfcnDl'])\n",
    "merged_df = pd.merge(merged_df,RMOD_df, on='configDN', how='left')\n",
    "merged_df = pd.merge(merged_df,ASIRMOD_df, on='configDN', how='left')\n",
    "merged_df['productName_x']= merged_df['productName_y'].fillna(merged_df['productName_x'])\n",
    "merged_df = merged_df.drop(columns=['productCode_y','productName_y'])\n",
    "merged_df = merged_df.rename(columns={'productCode_x': 'productCode', 'productName_x': 'productName'})"
   ]
  },
  {
   "cell_type": "code",
   "execution_count": 19,
   "id": "c2fbc942",
   "metadata": {},
   "outputs": [],
   "source": [
    "TodaysDate = time.strftime(\"%Y%m%d\")\n",
    "excelfilename = 'NRCELL_for_Smart_Capex_' + TodaysDate +\".xlsx\"\n",
    "merged_df.to_excel(excelfilename,sheet_name='NRCELL_Smart_Capex')"
   ]
  }
 ],
 "metadata": {
  "kernelspec": {
   "display_name": "Python 3 (ipykernel)",
   "language": "python",
   "name": "python3"
  },
  "language_info": {
   "codemirror_mode": {
    "name": "ipython",
    "version": 3
   },
   "file_extension": ".py",
   "mimetype": "text/x-python",
   "name": "python",
   "nbconvert_exporter": "python",
   "pygments_lexer": "ipython3",
   "version": "3.9.7"
  }
 },
 "nbformat": 4,
 "nbformat_minor": 5
}
